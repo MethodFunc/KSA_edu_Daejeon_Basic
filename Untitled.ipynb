{
 "cells": [
  {
   "cell_type": "markdown",
   "metadata": {},
   "source": [
    "### 1."
   ]
  },
  {
   "cell_type": "code",
   "execution_count": 23,
   "metadata": {
    "scrolled": true
   },
   "outputs": [
    {
     "name": "stdout",
     "output_type": "stream",
     "text": [
      "Input years : 2004\n",
      "윤년\n"
     ]
    }
   ],
   "source": [
    "year = int(input('Input years : '))\n",
    "\n",
    "if year % 4 == 0 or (year % 100 != 0 and year % 400 == 0) :\n",
    "    print('윤년')\n",
    "else : \n",
    "    print('윤년 아님')"
   ]
  },
  {
   "cell_type": "markdown",
   "metadata": {},
   "source": [
    "### 2."
   ]
  },
  {
   "cell_type": "code",
   "execution_count": 20,
   "metadata": {},
   "outputs": [
    {
     "name": "stdout",
     "output_type": "stream",
     "text": [
      "Input Hour : 6\n",
      "Input minute : 30\n",
      "input time : 06:30\n",
      "05:45\n"
     ]
    }
   ],
   "source": [
    "hour = int(input('Input Hour : '))\n",
    "minute = int(input('Input minute : '))\n",
    "\n",
    "print('input time : %02d:%02d'%(hour, minute))\n",
    "\n",
    "minute_sub = minute - 45\n",
    "if minute_sub < 0 :\n",
    "    hour -= 1\n",
    "    minute = 60 + minute_sub\n",
    "    \n",
    "print('%02d:%02d'%(hour, minute))"
   ]
  },
  {
   "cell_type": "markdown",
   "metadata": {},
   "source": [
    "### 3."
   ]
  },
  {
   "cell_type": "code",
   "execution_count": 6,
   "metadata": {},
   "outputs": [
    {
     "name": "stdout",
     "output_type": "stream",
     "text": [
      "1st : 5\n",
      "2nd : 1\n",
      "3nd : 3\n",
      "가운데 수 : 3\n"
     ]
    }
   ],
   "source": [
    "a = int(input('1st : '))\n",
    "b = int(input('2nd : '))\n",
    "c = int(input('3nd : '))\n",
    "\n",
    "print('가운데 수 : ', end='')\n",
    "if (a > b and a < c) or (a < b and a > c):\n",
    "    print(a)\n",
    "elif (b > a and b < c) or (b < a and b > c):\n",
    "    print(b)\n",
    "elif (c > a and c < b) or (c < a and c > b):\n",
    "    print(c)"
   ]
  },
  {
   "cell_type": "markdown",
   "metadata": {},
   "source": [
    "### 4."
   ]
  },
  {
   "cell_type": "code",
   "execution_count": 65,
   "metadata": {},
   "outputs": [
    {
     "name": "stdout",
     "output_type": "stream",
     "text": [
      "200 375 425\n"
     ]
    }
   ],
   "source": [
    "for i in range(1, 500):\n",
    "    for j in range(i+1,500):\n",
    "        c = 1000 - i - j\n",
    "        if i**2 + j**2 == c**2:\n",
    "            print(i, j, c)"
   ]
  },
  {
   "cell_type": "code",
   "execution_count": null,
   "metadata": {},
   "outputs": [],
   "source": []
  },
  {
   "cell_type": "markdown",
   "metadata": {},
   "source": [
    "### 1."
   ]
  },
  {
   "cell_type": "code",
   "execution_count": 6,
   "metadata": {},
   "outputs": [
    {
     "name": "stdout",
     "output_type": "stream",
     "text": [
      "case : 1\n",
      "a : 10\n",
      "b : 10\n",
      "Wrong Number\n",
      "a : 1\n",
      "b : 10\n",
      "Wrong Number\n",
      "a : 1\n",
      "b : 9\n",
      "Case # 1 :  1  +  9  =  10\n"
     ]
    }
   ],
   "source": [
    "n = int(input('case : '))\n",
    "\n",
    "i = 1\n",
    "while i <= n:\n",
    "    a = int(input('a : '))\n",
    "    if a < 0:\n",
    "        print('Wrong Number')\n",
    "        continue\n",
    "    b = int(input('b : '))\n",
    "    if b > 9:\n",
    "        print('Wrong Number')\n",
    "        continue\n",
    "\n",
    "    print('Case #',i,\": \",a,' + ',b,' = ',a+b)\n",
    "    i += 1"
   ]
  },
  {
   "cell_type": "markdown",
   "metadata": {},
   "source": [
    "### 2."
   ]
  },
  {
   "cell_type": "code",
   "execution_count": 28,
   "metadata": {},
   "outputs": [
    {
     "name": "stdout",
     "output_type": "stream",
     "text": [
      " 5\n",
      "  *\n",
      " ***\n",
      "*****\n",
      " ***\n",
      "  *\n"
     ]
    }
   ],
   "source": [
    "n = int(input(' '))\n",
    "a = ( n + 1 ) // 2\n",
    "for i in range(1, a + 1):\n",
    "    for j in range(a-i):\n",
    "        print(' ', end='')\n",
    "    for k in range(0, 2*i-1):\n",
    "        print('*', end='')\n",
    "    print()\n",
    "\n",
    "for i in range(a-1, 0, -1):\n",
    "    for j in range(i, a):\n",
    "        print(' ', end='')\n",
    "    for k in range(2 * i - 1):\n",
    "        print('*', end='')\n",
    "\n",
    "    print()"
   ]
  },
  {
   "cell_type": "markdown",
   "metadata": {},
   "source": [
    "### 3."
   ]
  },
  {
   "cell_type": "code",
   "execution_count": 13,
   "metadata": {},
   "outputs": [
    {
     "name": "stdout",
     "output_type": "stream",
     "text": [
      "29700\n"
     ]
    }
   ],
   "source": [
    "sum_sec = 0\n",
    "for i in range(24):\n",
    "    for j in range(60):\n",
    "        if '3' in str(i) or '3' in str(j):\n",
    "            sum_sec += 60\n",
    "\n",
    "print(sum_sec)"
   ]
  },
  {
   "cell_type": "markdown",
   "metadata": {},
   "source": [
    "### 4,"
   ]
  },
  {
   "cell_type": "code",
   "execution_count": 30,
   "metadata": {},
   "outputs": [
    {
     "name": "stdout",
     "output_type": "stream",
     "text": [
      "1 ~ 1000 : 999\n",
      "0: 189개, 1: 300개, 2: 300개, 3: 300개, 4: 300개, 5: 300개, 6: 300개, 7: 300개, 8: 300개, 9: 300개\n"
     ]
    }
   ],
   "source": [
    "n = int(input('1 ~ 1000 : '))\n",
    "list1 = []\n",
    "list2 = []\n",
    "list3 = []\n",
    "for a in range(1, n+1):\n",
    "    if a < 10:\n",
    "        b = list1.append(a)\n",
    "\n",
    "    if a >= 10 and a < 100:\n",
    "        b = list1.append(int(a / 10))\n",
    "        c = list2.append(a % 10)\n",
    "\n",
    "    if a >= 100 and a < 1000:\n",
    "        b = list1.append(int(a / 100))\n",
    "        c = a % 100\n",
    "        d = list2.append(int(c / 10))\n",
    "        e = list3.append(c % 10)\n",
    "\n",
    "count = []\n",
    "for i in range(0,10):\n",
    "        count.append(list1.count(i) + list2.count(i) + list3.count(i))\n",
    "\n",
    "print('0: {}개, 1: {}개, 2: {}개, 3: {}개, 4: {}개, 5: {}개, 6: {}개, 7: {}개, 8: {}개, 9: {}개'.format(count[0],count[1],count[2],count[3],count[4],count[5],count[6],count[7],count[8],count[9]))"
   ]
  },
  {
   "cell_type": "markdown",
   "metadata": {},
   "source": [
    "### 5."
   ]
  },
  {
   "cell_type": "code",
   "execution_count": 3,
   "metadata": {},
   "outputs": [
    {
     "name": "stdout",
     "output_type": "stream",
     "text": [
      " : 100\n",
      "6\n",
      "28\n"
     ]
    }
   ],
   "source": [
    "def perfect1(n):\n",
    "    sum = 0\n",
    "    for i in range(1, n):\n",
    "        if n % i == 0:\n",
    "            sum += i\n",
    "    return sum\n",
    "\n",
    "n = int(input(' : '))\n",
    "for i in range(1, n+1):\n",
    "    if i ==  perfect1(i):\n",
    "        print(i)"
   ]
  },
  {
   "cell_type": "markdown",
   "metadata": {},
   "source": [
    "### 6."
   ]
  },
  {
   "cell_type": "code",
   "execution_count": 12,
   "metadata": {
    "scrolled": true
   },
   "outputs": [
    {
     "name": "stdout",
     "output_type": "stream",
     "text": [
      "input : 11\n",
      "4356\n",
      "506\n",
      "3850\n"
     ]
    }
   ],
   "source": [
    "n = int(input('input : '))\n",
    "\n",
    "sum = 0\n",
    "mul = 0\n",
    "for i in range(1, n+1):\n",
    "    sum += i\n",
    "\n",
    "sum = sum ** 2\n",
    "\n",
    "for i in range(1, n+1):\n",
    "    mul += i ** 2\n",
    "\n",
    "print(sum)\n",
    "print(mul)\n",
    "print(sum-mul)"
   ]
  },
  {
   "cell_type": "code",
   "execution_count": null,
   "metadata": {},
   "outputs": [],
   "source": []
  },
  {
   "cell_type": "code",
   "execution_count": null,
   "metadata": {},
   "outputs": [],
   "source": []
  },
  {
   "cell_type": "markdown",
   "metadata": {},
   "source": [
    "### 2."
   ]
  },
  {
   "cell_type": "code",
   "execution_count": 35,
   "metadata": {
    "scrolled": true
   },
   "outputs": [
    {
     "name": "stdout",
     "output_type": "stream",
     "text": [
      "Word : PYTHONE\n",
      "Cycle : 5\n",
      "UDYMTSJ"
     ]
    }
   ],
   "source": [
    "def Cypher(a, n):\n",
    "    if ord(a) > 64 or ord(a) < 91:\n",
    "        a = ord(a) + n\n",
    "        if a > 91:\n",
    "            a = 65 + (a - 90 - 1)\n",
    "    return chr(a)\n",
    "\n",
    "word = input('Word : ')\n",
    "n = int(input('Cycle : '))\n",
    "\n",
    "for i in range(len(word)):\n",
    "    print(Cypher(word[i], n), end = '')\n"
   ]
  },
  {
   "cell_type": "markdown",
   "metadata": {},
   "source": [
    "### 3."
   ]
  },
  {
   "cell_type": "code",
   "execution_count": null,
   "metadata": {},
   "outputs": [],
   "source": []
  }
 ],
 "metadata": {
  "kernelspec": {
   "display_name": "Python 3",
   "language": "python",
   "name": "python3"
  },
  "language_info": {
   "codemirror_mode": {
    "name": "ipython",
    "version": 3
   },
   "file_extension": ".py",
   "mimetype": "text/x-python",
   "name": "python",
   "nbconvert_exporter": "python",
   "pygments_lexer": "ipython3",
   "version": "3.7.6"
  }
 },
 "nbformat": 4,
 "nbformat_minor": 4
}
