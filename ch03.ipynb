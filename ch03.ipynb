{
 "cells": [
  {
   "cell_type": "markdown",
   "metadata": {},
   "source": [
    "# Chapter 03. if"
   ]
  },
  {
   "cell_type": "code",
   "execution_count": 2,
   "metadata": {
    "scrolled": true
   },
   "outputs": [
    {
     "name": "stdout",
     "output_type": "stream",
     "text": [
      "Number : 5\n",
      "양수\n"
     ]
    }
   ],
   "source": [
    "x = int(input('Number : '))\n",
    "\n",
    "if x>0:\n",
    "    print(\"양수\")\n",
    "elif x < 0:\n",
    "    print(\"음수\")\n",
    "else:\n",
    "    print(\"0\")"
   ]
  },
  {
   "cell_type": "code",
   "execution_count": 3,
   "metadata": {},
   "outputs": [
    {
     "name": "stdout",
     "output_type": "stream",
     "text": [
      "Your 1st score : 50\n",
      "Your 2nd score : 90\n",
      "불합격!\n"
     ]
    }
   ],
   "source": [
    "# example 3-4\n",
    "\n",
    "score1 = int(input(\"Your 1st score : \"))\n",
    "score2 = int(input(\"Your 2nd score : \"))\n",
    "\n",
    "if score1 >= 80 and score2 >=80:\n",
    "    print('합격!')\n",
    "else:\n",
    "     print(\"불합격!\")   "
   ]
  },
  {
   "cell_type": "code",
   "execution_count": 7,
   "metadata": {},
   "outputs": [
    {
     "name": "stdout",
     "output_type": "stream",
     "text": [
      "Your age : 40\n",
      "Pay : 3000\n"
     ]
    }
   ],
   "source": [
    "# example 3-8\n",
    "\n",
    "age = int(input('Your age : '))\n",
    "pay = '3000'\n",
    "\n",
    "if age >= 65 or age < 7:\n",
    "    pay = 'free'\n",
    "elif age <=18:\n",
    "    pay = '1500'\n",
    "    \n",
    "print('Pay : %s' %pay)"
   ]
  },
  {
   "cell_type": "code",
   "execution_count": 9,
   "metadata": {},
   "outputs": [
    {
     "name": "stdout",
     "output_type": "stream",
     "text": [
      "Write your score : 80\n",
      "Your Score : 80\n",
      "Grade : B\n"
     ]
    }
   ],
   "source": [
    "# example 3-10\n",
    "\n",
    "score = int(input(\"Write your score : \"))\n",
    "\n",
    "if score >= 90:\n",
    "    grade = 'A'\n",
    "elif score >= 80:\n",
    "    grade = 'B'\n",
    "elif score >= 70:\n",
    "    grade = 'C'\n",
    "elif score >= 60:\n",
    "    grade = 'D'\n",
    "else:\n",
    "    grade = 'F'\n",
    "    \n",
    "print(\"Your Score : %d\" %score)\n",
    "print(\"Grade : %s\" %grade)\n",
    "\n"
   ]
  },
  {
   "cell_type": "code",
   "execution_count": 13,
   "metadata": {},
   "outputs": [
    {
     "name": "stdout",
     "output_type": "stream",
     "text": [
      "year, month, day : 2020 05 30\n",
      "2020\n",
      "5\n",
      "30\n"
     ]
    }
   ],
   "source": [
    "year, month, day = map(int, input('year, month, day : ').split(' '))\n",
    "\n",
    "print(year)\n",
    "print(month)\n",
    "print(day)\n"
   ]
  }
 ],
 "metadata": {
  "kernelspec": {
   "display_name": "Python 3",
   "language": "python",
   "name": "python3"
  },
  "language_info": {
   "codemirror_mode": {
    "name": "ipython",
    "version": 3
   },
   "file_extension": ".py",
   "mimetype": "text/x-python",
   "name": "python",
   "nbconvert_exporter": "python",
   "pygments_lexer": "ipython3",
   "version": "3.7.6"
  }
 },
 "nbformat": 4,
 "nbformat_minor": 4
}
