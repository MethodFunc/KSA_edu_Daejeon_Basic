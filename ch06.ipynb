{
 "cells": [
  {
   "cell_type": "markdown",
   "metadata": {},
   "source": [
    "# Chapter 6. Tuple"
   ]
  },
  {
   "cell_type": "code",
   "execution_count": 4,
   "metadata": {},
   "outputs": [],
   "source": [
    "fruits = {'strawberry', 'grape', 'orange', 'pineapple', 'cherry'}"
   ]
  },
  {
   "cell_type": "code",
   "execution_count": 5,
   "metadata": {},
   "outputs": [
    {
     "data": {
      "text/plain": [
       "{'cherry', 'grape', 'orange', 'pineapple', 'strawberry'}"
      ]
     },
     "execution_count": 5,
     "metadata": {},
     "output_type": "execute_result"
    }
   ],
   "source": [
    "fruits"
   ]
  },
  {
   "cell_type": "code",
   "execution_count": 7,
   "metadata": {},
   "outputs": [
    {
     "name": "stdout",
     "output_type": "stream",
     "text": [
      "(1, 4, 9, 16, 25)\n"
     ]
    }
   ],
   "source": [
    "a = tuple(i * i for i in range(1, 6))\n",
    "print(a)"
   ]
  },
  {
   "cell_type": "markdown",
   "metadata": {},
   "source": [
    "# Chapter 7. Fuction"
   ]
  },
  {
   "cell_type": "code",
   "execution_count": 7,
   "metadata": {
    "scrolled": true
   },
   "outputs": [
    {
     "name": "stdout",
     "output_type": "stream",
     "text": [
      "3과목의 평균 : 90.00\n",
      "4과목의 평균 : 81.75\n",
      "5과목의 평균 : 79.40\n"
     ]
    }
   ],
   "source": [
    "# 뭐든 튜블로 받는다.\n",
    "\n",
    "def average(*scores):\n",
    "    sum = 0\n",
    "    for i in range(len(scores)):\n",
    "        sum += scores[i]\n",
    "    \n",
    "    avg = sum / len(scores)\n",
    "    print('%d과목의 평균 : %.2f'%(len(scores), avg))\n",
    "\n",
    "average(80,90,100)\n",
    "average(75,80,94,78)\n",
    "average(80,73,76,86,82)"
   ]
  },
  {
   "cell_type": "code",
   "execution_count": 11,
   "metadata": {},
   "outputs": [],
   "source": [
    "# keyword형 인수\n",
    "\n",
    "def personal_info(name, age, address):\n",
    "    print('이름: ', name)\n",
    "    print('나이: ', age)\n",
    "    print('주소: ', address)"
   ]
  },
  {
   "cell_type": "code",
   "execution_count": 12,
   "metadata": {},
   "outputs": [
    {
     "name": "stdout",
     "output_type": "stream",
     "text": [
      "이름:  홍길동\n",
      "나이:  30\n",
      "주소:  세종시\n"
     ]
    }
   ],
   "source": [
    "personal_info(age = 30, address = '세종시', name = '홍길동')"
   ]
  },
  {
   "cell_type": "code",
   "execution_count": 15,
   "metadata": {},
   "outputs": [],
   "source": [
    "x = dict(name = '홍길동', age = 30, address = '세종시')"
   ]
  },
  {
   "cell_type": "code",
   "execution_count": 16,
   "metadata": {
    "scrolled": true
   },
   "outputs": [
    {
     "name": "stdout",
     "output_type": "stream",
     "text": [
      "이름:  홍길동\n",
      "나이:  30\n",
      "주소:  세종시\n"
     ]
    }
   ],
   "source": [
    "personal_info(**x)"
   ]
  },
  {
   "cell_type": "code",
   "execution_count": 18,
   "metadata": {},
   "outputs": [
    {
     "name": "stdout",
     "output_type": "stream",
     "text": [
      "4과목의 평균 : 85.00\n"
     ]
    }
   ],
   "source": [
    "y = (70, 80, 90, 100)\n",
    "average(*y)"
   ]
  },
  {
   "cell_type": "code",
   "execution_count": 19,
   "metadata": {},
   "outputs": [],
   "source": [
    "def personal_info(**kwargs):\n",
    "    for kw, val in kwargs.items():\n",
    "        print(kw, ': ',val,sep=' ')"
   ]
  },
  {
   "cell_type": "code",
   "execution_count": 20,
   "metadata": {},
   "outputs": [
    {
     "name": "stdout",
     "output_type": "stream",
     "text": [
      "name :  홍길동\n",
      "age :  30\n",
      "address :  세종시\n"
     ]
    }
   ],
   "source": [
    "x = dict(name = '홍길동', age = 30, address = '세종시')\n",
    "personal_info(**x)"
   ]
  },
  {
   "cell_type": "code",
   "execution_count": 22,
   "metadata": {},
   "outputs": [],
   "source": [
    "def custom_print(*args, **kwargs):\n",
    "    print(*args, **kwargs)"
   ]
  },
  {
   "cell_type": "code",
   "execution_count": 23,
   "metadata": {},
   "outputs": [
    {
     "name": "stdout",
     "output_type": "stream",
     "text": [
      "1:2:3"
     ]
    }
   ],
   "source": [
    "custom_print(1, 2, 3, sep=':', end='')"
   ]
  },
  {
   "cell_type": "code",
   "execution_count": 25,
   "metadata": {},
   "outputs": [],
   "source": [
    "def perfect_num(x):\n",
    "    num1 = list()\n",
    "    for i in range(1, x+1):\n",
    "        sum = 0\n",
    "        for j in range(1, i):\n",
    "            if i % j == 0:\n",
    "                sum += j\n",
    "        if sum == i:\n",
    "            num1.append(sum)\n",
    "    return num1"
   ]
  },
  {
   "cell_type": "code",
   "execution_count": 26,
   "metadata": {},
   "outputs": [
    {
     "name": "stdout",
     "output_type": "stream",
     "text": [
      "[6, 28, 496, 8128]\n"
     ]
    }
   ],
   "source": [
    "print(perfect_num(10000))"
   ]
  },
  {
   "cell_type": "code",
   "execution_count": 33,
   "metadata": {},
   "outputs": [],
   "source": [
    "def perfect1(n):\n",
    "    sum = 0\n",
    "    for i in range(1, n):\n",
    "        if n % i == 0:\n",
    "            sum += i\n",
    "    return sum"
   ]
  },
  {
   "cell_type": "code",
   "execution_count": 36,
   "metadata": {
    "scrolled": true
   },
   "outputs": [
    {
     "name": "stdout",
     "output_type": "stream",
     "text": [
      "6\n",
      "28\n",
      "496\n",
      "8128\n"
     ]
    }
   ],
   "source": [
    "for i in range(1, 10001):\n",
    "    if i ==  perfect1(i):\n",
    "        print(i)"
   ]
  },
  {
   "cell_type": "code",
   "execution_count": 39,
   "metadata": {
    "scrolled": true
   },
   "outputs": [
    {
     "name": "stdout",
     "output_type": "stream",
     "text": [
      "10\n",
      "140714547126960\n",
      "100\n",
      "140714547129840\n"
     ]
    }
   ],
   "source": [
    "def func():\n",
    "    xxx = 100\n",
    "    print(xxx)\n",
    "    print(id(xxx))\n",
    "    \n",
    "xxx = 10\n",
    "print(xxx)\n",
    "print(id(xxx))\n",
    "func()"
   ]
  },
  {
   "cell_type": "code",
   "execution_count": 43,
   "metadata": {},
   "outputs": [
    {
     "name": "stdout",
     "output_type": "stream",
     "text": [
      "10\n",
      "140714547126960\n",
      "100\n",
      "140714547129840\n",
      "100\n",
      "140714547129840\n"
     ]
    }
   ],
   "source": [
    "def func():\n",
    "    global xxx\n",
    "    xxx = 100\n",
    "    print(xxx)\n",
    "    print(id(xxx))\n",
    "    \n",
    "xxx = 10\n",
    "print(xxx)\n",
    "print(id(xxx))\n",
    "func()\n",
    "print(xxx)\n",
    "print(id(xxx))"
   ]
  },
  {
   "cell_type": "markdown",
   "metadata": {},
   "source": [
    "# File IO"
   ]
  },
  {
   "cell_type": "code",
   "execution_count": 45,
   "metadata": {},
   "outputs": [],
   "source": [
    "file = open('sample.txt', 'w', encoding='UTF-8')\n",
    "file.write('Hello World!')\n",
    "file.close()\n"
   ]
  },
  {
   "cell_type": "code",
   "execution_count": 51,
   "metadata": {},
   "outputs": [],
   "source": [
    "scores = ['김소영 82 80 93 97 93 88',\n",
    "           '정예린 86 100 93 86 90 77',\n",
    "           '이세영 91 88 99 79 92 68',\n",
    "           '정수정 86 100 93 89 92 93',\n",
    "           '박지수 80 100 95 89 90 84']\n",
    "data = ''"
   ]
  },
  {
   "cell_type": "code",
   "execution_count": 52,
   "metadata": {},
   "outputs": [
    {
     "name": "stdout",
     "output_type": "stream",
     "text": [
      "김소영 82 80 93 97 93 88\n",
      "정예린 86 100 93 86 90 77\n",
      "이세영 91 88 99 79 92 68\n",
      "정수정 86 100 93 89 92 93\n",
      "박지수 80 100 95 89 90 84\n",
      "\n"
     ]
    }
   ],
   "source": [
    "for item in scores:\n",
    "    data += item + '\\n'\n",
    "\n",
    "print(data)\n",
    "\n",
    "file = open('scores.txt','w',encoding='utf8')\n",
    "file.write(data)\n",
    "file.close()"
   ]
  },
  {
   "cell_type": "code",
   "execution_count": 67,
   "metadata": {},
   "outputs": [
    {
     "name": "stdout",
     "output_type": "stream",
     "text": [
      "김소영 82 80 93 97 93 88\n",
      "\n",
      "정예린 86 100 93 86 90 77\n",
      "\n",
      "이세영 91 88 99 79 92 68\n",
      "\n",
      "정수정 86 100 93 89 92 93\n",
      "\n",
      "박지수 80 100 95 89 90 84\n",
      "\n"
     ]
    }
   ],
   "source": [
    "file = open('scores.txt','r',encoding='utf8')\n",
    "lines = file.readlines()\n",
    "for line in lines:\n",
    "    print(line)\n",
    "    \n",
    "file.close()\n"
   ]
  },
  {
   "cell_type": "code",
   "execution_count": 108,
   "metadata": {},
   "outputs": [
    {
     "name": "stdout",
     "output_type": "stream",
     "text": [
      "[['김소영,82,80,93,97,93,88', ''], ['정예린,86,100,93,86,90,77', ''], ['이세영,91,88,99,79,92,68', ''], ['정수정,86,100,93,89,92,93', ''], ['박지수,80,100,95,89,90,84']]\n"
     ]
    }
   ],
   "source": [
    "a = []\n",
    "with open('scores.csv', 'r', encoding='utf8') as file:\n",
    "    lines = file.readlines()\n",
    "    for line in lines:\n",
    "        a.append(line.split('\\n'))\n",
    "        \n",
    "for"
   ]
  },
  {
   "cell_type": "code",
   "execution_count": null,
   "metadata": {},
   "outputs": [],
   "source": []
  }
 ],
 "metadata": {
  "kernelspec": {
   "display_name": "Python 3",
   "language": "python",
   "name": "python3"
  },
  "language_info": {
   "codemirror_mode": {
    "name": "ipython",
    "version": 3
   },
   "file_extension": ".py",
   "mimetype": "text/x-python",
   "name": "python",
   "nbconvert_exporter": "python",
   "pygments_lexer": "ipython3",
   "version": "3.7.6"
  },
  "widgets": {
   "application/vnd.jupyter.widget-state+json": {
    "state": {},
    "version_major": 2,
    "version_minor": 0
   }
  }
 },
 "nbformat": 4,
 "nbformat_minor": 4
}
