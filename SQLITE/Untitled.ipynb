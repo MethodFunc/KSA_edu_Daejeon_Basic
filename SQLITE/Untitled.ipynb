{
 "cells": [
  {
   "cell_type": "code",
   "execution_count": 1,
   "metadata": {},
   "outputs": [],
   "source": [
    "from bs4 import BeautifulSoup as BS\n",
    "import urllib.request as req\n",
    "import urllib.parse as pa\n",
    "import pandas as pd"
   ]
  },
  {
   "cell_type": "code",
   "execution_count": 2,
   "metadata": {},
   "outputs": [],
   "source": [
    "url = 'https://www.koreabaseball.com/Record/Player/PitcherBasic/Basic1.aspx'\n",
    "url_open = req.urlopen(url)\n",
    "\n",
    "soup = BS(url_open, 'html.parser')"
   ]
  },
  {
   "cell_type": "code",
   "execution_count": 4,
   "metadata": {},
   "outputs": [],
   "source": [
    "pitchers = soup.find_all('tr')[1]"
   ]
  },
  {
   "cell_type": "code",
   "execution_count": 6,
   "metadata": {},
   "outputs": [
    {
     "data": {
      "text/plain": [
       "'구창모'"
      ]
     },
     "execution_count": 6,
     "metadata": {},
     "output_type": "execute_result"
    }
   ],
   "source": [
    "# 이름\n",
    "pitchers.find_all('td')[1].get_text()"
   ]
  },
  {
   "cell_type": "code",
   "execution_count": 7,
   "metadata": {},
   "outputs": [
    {
     "data": {
      "text/plain": [
       "'NC'"
      ]
     },
     "execution_count": 7,
     "metadata": {},
     "output_type": "execute_result"
    }
   ],
   "source": [
    "# 팀명\n",
    "pitchers.find_all('td')[2].get_text()"
   ]
  },
  {
   "cell_type": "code",
   "execution_count": 8,
   "metadata": {},
   "outputs": [
    {
     "data": {
      "text/plain": [
       "'0.66'"
      ]
     },
     "execution_count": 8,
     "metadata": {},
     "output_type": "execute_result"
    }
   ],
   "source": [
    "# ERA(평균자책점)\n",
    "pitchers.find_all('td')[3].get_text()"
   ]
  },
  {
   "cell_type": "code",
   "execution_count": 9,
   "metadata": {},
   "outputs": [
    {
     "data": {
      "text/plain": [
       "'41'"
      ]
     },
     "execution_count": 9,
     "metadata": {},
     "output_type": "execute_result"
    }
   ],
   "source": [
    "# 투구 이닝\n",
    "pitchers.find_all('td')[10].get_text()"
   ]
  },
  {
   "cell_type": "code",
   "execution_count": 10,
   "metadata": {},
   "outputs": [
    {
     "data": {
      "text/plain": [
       "'44'"
      ]
     },
     "execution_count": 10,
     "metadata": {},
     "output_type": "execute_result"
    }
   ],
   "source": [
    "# 탈삼진\n",
    "pitchers.find_all('td')[15].get_text()"
   ]
  },
  {
   "cell_type": "code",
   "execution_count": 11,
   "metadata": {},
   "outputs": [],
   "source": [
    "name = []\n",
    "team  = []\n",
    "era = []\n",
    "ip = []\n",
    "so = []\n"
   ]
  },
  {
   "cell_type": "code",
   "execution_count": 12,
   "metadata": {},
   "outputs": [],
   "source": [
    "for n in range(1, 31):\n",
    "    pitchers = soup.find_all('tr')[n]\n",
    "    \n",
    "    name.append(pitchers.find_all('td')[1].get_text())\n",
    "    team.append(pitchers.find_all('td')[2].get_text())\n",
    "    era.append(pitchers.find_all('td')[3].get_text())\n",
    "    ip.append(pitchers.find_all('td')[10].get_text())\n",
    "    so.append(pitchers.find_all('td')[15].get_text())\n"
   ]
  },
  {
   "cell_type": "code",
   "execution_count": 13,
   "metadata": {},
   "outputs": [],
   "source": [
    "df = pd.DataFrame(dict(zip(['이름', '소속팀','평균자책점','투구수','탈삼진'], [name, team, era, ip, so])))"
   ]
  },
  {
   "cell_type": "code",
   "execution_count": 19,
   "metadata": {},
   "outputs": [
    {
     "data": {
      "text/html": [
       "<div>\n",
       "<style scoped>\n",
       "    .dataframe tbody tr th:only-of-type {\n",
       "        vertical-align: middle;\n",
       "    }\n",
       "\n",
       "    .dataframe tbody tr th {\n",
       "        vertical-align: top;\n",
       "    }\n",
       "\n",
       "    .dataframe thead th {\n",
       "        text-align: right;\n",
       "    }\n",
       "</style>\n",
       "<table border=\"1\" class=\"dataframe\">\n",
       "  <thead>\n",
       "    <tr style=\"text-align: right;\">\n",
       "      <th></th>\n",
       "      <th>이름</th>\n",
       "      <th>소속팀</th>\n",
       "      <th>평균자책점</th>\n",
       "      <th>투구수</th>\n",
       "      <th>탈삼진</th>\n",
       "    </tr>\n",
       "  </thead>\n",
       "  <tbody>\n",
       "    <tr>\n",
       "      <th>0</th>\n",
       "      <td>구창모</td>\n",
       "      <td>NC</td>\n",
       "      <td>0.66</td>\n",
       "      <td>41</td>\n",
       "      <td>44</td>\n",
       "    </tr>\n",
       "    <tr>\n",
       "      <th>1</th>\n",
       "      <td>요키시</td>\n",
       "      <td>키움</td>\n",
       "      <td>1.49</td>\n",
       "      <td>42 1/3</td>\n",
       "      <td>33</td>\n",
       "    </tr>\n",
       "    <tr>\n",
       "      <th>2</th>\n",
       "      <td>배제성</td>\n",
       "      <td>KT</td>\n",
       "      <td>2.11</td>\n",
       "      <td>38 1/3</td>\n",
       "      <td>24</td>\n",
       "    </tr>\n",
       "    <tr>\n",
       "      <th>3</th>\n",
       "      <td>스트레일리</td>\n",
       "      <td>롯데</td>\n",
       "      <td>2.23</td>\n",
       "      <td>40 1/3</td>\n",
       "      <td>43</td>\n",
       "    </tr>\n",
       "    <tr>\n",
       "      <th>4</th>\n",
       "      <td>루친스키</td>\n",
       "      <td>NC</td>\n",
       "      <td>2.23</td>\n",
       "      <td>44 1/3</td>\n",
       "      <td>41</td>\n",
       "    </tr>\n",
       "    <tr>\n",
       "      <th>5</th>\n",
       "      <td>원태인</td>\n",
       "      <td>삼성</td>\n",
       "      <td>2.68</td>\n",
       "      <td>37</td>\n",
       "      <td>24</td>\n",
       "    </tr>\n",
       "    <tr>\n",
       "      <th>6</th>\n",
       "      <td>브룩스</td>\n",
       "      <td>KIA</td>\n",
       "      <td>2.76</td>\n",
       "      <td>42 1/3</td>\n",
       "      <td>34</td>\n",
       "    </tr>\n",
       "    <tr>\n",
       "      <th>7</th>\n",
       "      <td>라이트</td>\n",
       "      <td>NC</td>\n",
       "      <td>2.77</td>\n",
       "      <td>39</td>\n",
       "      <td>35</td>\n",
       "    </tr>\n",
       "    <tr>\n",
       "      <th>8</th>\n",
       "      <td>플렉센</td>\n",
       "      <td>두산</td>\n",
       "      <td>2.92</td>\n",
       "      <td>37</td>\n",
       "      <td>30</td>\n",
       "    </tr>\n",
       "    <tr>\n",
       "      <th>9</th>\n",
       "      <td>박종훈</td>\n",
       "      <td>SK</td>\n",
       "      <td>3.44</td>\n",
       "      <td>34</td>\n",
       "      <td>34</td>\n",
       "    </tr>\n",
       "    <tr>\n",
       "      <th>10</th>\n",
       "      <td>가뇽</td>\n",
       "      <td>KIA</td>\n",
       "      <td>3.48</td>\n",
       "      <td>33 2/3</td>\n",
       "      <td>40</td>\n",
       "    </tr>\n",
       "    <tr>\n",
       "      <th>11</th>\n",
       "      <td>유희관</td>\n",
       "      <td>두산</td>\n",
       "      <td>3.60</td>\n",
       "      <td>35</td>\n",
       "      <td>12</td>\n",
       "    </tr>\n",
       "    <tr>\n",
       "      <th>12</th>\n",
       "      <td>서준원</td>\n",
       "      <td>롯데</td>\n",
       "      <td>3.72</td>\n",
       "      <td>38 2/3</td>\n",
       "      <td>18</td>\n",
       "    </tr>\n",
       "    <tr>\n",
       "      <th>13</th>\n",
       "      <td>핀토</td>\n",
       "      <td>SK</td>\n",
       "      <td>3.76</td>\n",
       "      <td>40 2/3</td>\n",
       "      <td>25</td>\n",
       "    </tr>\n",
       "    <tr>\n",
       "      <th>14</th>\n",
       "      <td>뷰캐넌</td>\n",
       "      <td>삼성</td>\n",
       "      <td>3.79</td>\n",
       "      <td>38</td>\n",
       "      <td>24</td>\n",
       "    </tr>\n",
       "    <tr>\n",
       "      <th>15</th>\n",
       "      <td>양현종</td>\n",
       "      <td>KIA</td>\n",
       "      <td>3.89</td>\n",
       "      <td>37</td>\n",
       "      <td>26</td>\n",
       "    </tr>\n",
       "    <tr>\n",
       "      <th>16</th>\n",
       "      <td>차우찬</td>\n",
       "      <td>LG</td>\n",
       "      <td>3.97</td>\n",
       "      <td>34</td>\n",
       "      <td>31</td>\n",
       "    </tr>\n",
       "    <tr>\n",
       "      <th>17</th>\n",
       "      <td>알칸타라</td>\n",
       "      <td>두산</td>\n",
       "      <td>4.07</td>\n",
       "      <td>42</td>\n",
       "      <td>35</td>\n",
       "    </tr>\n",
       "    <tr>\n",
       "      <th>18</th>\n",
       "      <td>서폴드</td>\n",
       "      <td>한화</td>\n",
       "      <td>4.11</td>\n",
       "      <td>46</td>\n",
       "      <td>24</td>\n",
       "    </tr>\n",
       "    <tr>\n",
       "      <th>19</th>\n",
       "      <td>데스파이네</td>\n",
       "      <td>KT</td>\n",
       "      <td>4.29</td>\n",
       "      <td>42</td>\n",
       "      <td>34</td>\n",
       "    </tr>\n",
       "    <tr>\n",
       "      <th>20</th>\n",
       "      <td>윌슨</td>\n",
       "      <td>LG</td>\n",
       "      <td>4.29</td>\n",
       "      <td>35 2/3</td>\n",
       "      <td>27</td>\n",
       "    </tr>\n",
       "    <tr>\n",
       "      <th>21</th>\n",
       "      <td>최원태</td>\n",
       "      <td>키움</td>\n",
       "      <td>4.38</td>\n",
       "      <td>39</td>\n",
       "      <td>26</td>\n",
       "    </tr>\n",
       "    <tr>\n",
       "      <th>22</th>\n",
       "      <td>문승원</td>\n",
       "      <td>SK</td>\n",
       "      <td>4.68</td>\n",
       "      <td>32 2/3</td>\n",
       "      <td>33</td>\n",
       "    </tr>\n",
       "    <tr>\n",
       "      <th>23</th>\n",
       "      <td>김태훈</td>\n",
       "      <td>SK</td>\n",
       "      <td>4.91</td>\n",
       "      <td>33</td>\n",
       "      <td>19</td>\n",
       "    </tr>\n",
       "    <tr>\n",
       "      <th>24</th>\n",
       "      <td>켈리</td>\n",
       "      <td>LG</td>\n",
       "      <td>5.06</td>\n",
       "      <td>32</td>\n",
       "      <td>27</td>\n",
       "    </tr>\n",
       "    <tr>\n",
       "      <th>25</th>\n",
       "      <td>이재학</td>\n",
       "      <td>NC</td>\n",
       "      <td>5.08</td>\n",
       "      <td>33 2/3</td>\n",
       "      <td>20</td>\n",
       "    </tr>\n",
       "    <tr>\n",
       "      <th>26</th>\n",
       "      <td>이민우</td>\n",
       "      <td>KIA</td>\n",
       "      <td>5.09</td>\n",
       "      <td>40 2/3</td>\n",
       "      <td>28</td>\n",
       "    </tr>\n",
       "    <tr>\n",
       "      <th>27</th>\n",
       "      <td>이영하</td>\n",
       "      <td>두산</td>\n",
       "      <td>5.22</td>\n",
       "      <td>39 2/3</td>\n",
       "      <td>27</td>\n",
       "    </tr>\n",
       "    <tr>\n",
       "      <th>28</th>\n",
       "      <td>임찬규</td>\n",
       "      <td>LG</td>\n",
       "      <td>5.24</td>\n",
       "      <td>34 1/3</td>\n",
       "      <td>34</td>\n",
       "    </tr>\n",
       "    <tr>\n",
       "      <th>29</th>\n",
       "      <td>김민우</td>\n",
       "      <td>한화</td>\n",
       "      <td>5.25</td>\n",
       "      <td>36</td>\n",
       "      <td>36</td>\n",
       "    </tr>\n",
       "  </tbody>\n",
       "</table>\n",
       "</div>"
      ],
      "text/plain": [
       "       이름  소속팀 평균자책점     투구수 탈삼진\n",
       "0     구창모   NC  0.66      41  44\n",
       "1     요키시   키움  1.49  42 1/3  33\n",
       "2     배제성   KT  2.11  38 1/3  24\n",
       "3   스트레일리   롯데  2.23  40 1/3  43\n",
       "4    루친스키   NC  2.23  44 1/3  41\n",
       "5     원태인   삼성  2.68      37  24\n",
       "6     브룩스  KIA  2.76  42 1/3  34\n",
       "7     라이트   NC  2.77      39  35\n",
       "8     플렉센   두산  2.92      37  30\n",
       "9     박종훈   SK  3.44      34  34\n",
       "10     가뇽  KIA  3.48  33 2/3  40\n",
       "11    유희관   두산  3.60      35  12\n",
       "12    서준원   롯데  3.72  38 2/3  18\n",
       "13     핀토   SK  3.76  40 2/3  25\n",
       "14    뷰캐넌   삼성  3.79      38  24\n",
       "15    양현종  KIA  3.89      37  26\n",
       "16    차우찬   LG  3.97      34  31\n",
       "17   알칸타라   두산  4.07      42  35\n",
       "18    서폴드   한화  4.11      46  24\n",
       "19  데스파이네   KT  4.29      42  34\n",
       "20     윌슨   LG  4.29  35 2/3  27\n",
       "21    최원태   키움  4.38      39  26\n",
       "22    문승원   SK  4.68  32 2/3  33\n",
       "23    김태훈   SK  4.91      33  19\n",
       "24     켈리   LG  5.06      32  27\n",
       "25    이재학   NC  5.08  33 2/3  20\n",
       "26    이민우  KIA  5.09  40 2/3  28\n",
       "27    이영하   두산  5.22  39 2/3  27\n",
       "28    임찬규   LG  5.24  34 1/3  34\n",
       "29    김민우   한화  5.25      36  36"
      ]
     },
     "execution_count": 19,
     "metadata": {},
     "output_type": "execute_result"
    }
   ],
   "source": [
    "df"
   ]
  },
  {
   "cell_type": "code",
   "execution_count": null,
   "metadata": {},
   "outputs": [],
   "source": []
  }
 ],
 "metadata": {
  "kernelspec": {
   "display_name": "Python 3",
   "language": "python",
   "name": "python3"
  },
  "language_info": {
   "codemirror_mode": {
    "name": "ipython",
    "version": 3
   },
   "file_extension": ".py",
   "mimetype": "text/x-python",
   "name": "python",
   "nbconvert_exporter": "python",
   "pygments_lexer": "ipython3",
   "version": "3.7.6"
  }
 },
 "nbformat": 4,
 "nbformat_minor": 4
}
