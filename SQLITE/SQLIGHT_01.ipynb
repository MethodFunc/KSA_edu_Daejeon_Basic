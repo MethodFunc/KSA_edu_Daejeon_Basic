{
 "cells": [
  {
   "cell_type": "markdown",
   "metadata": {},
   "source": [
    "# SQLight3 Training"
   ]
  },
  {
   "cell_type": "code",
   "execution_count": 10,
   "metadata": {},
   "outputs": [],
   "source": [
    "import sqlite3 as sq"
   ]
  },
  {
   "cell_type": "code",
   "execution_count": 28,
   "metadata": {},
   "outputs": [],
   "source": [
    "# File SQL 접속\n",
    "conn = sq.connect('test.db')"
   ]
  },
  {
   "cell_type": "code",
   "execution_count": 56,
   "metadata": {},
   "outputs": [],
   "source": [
    "# 객체 생성\n",
    "cur = conn.cursor()\n",
    "# 실행문 입력\n",
    "cur.execute('SELECT * FROM eagles')\n",
    "# 데이터  가져오기\n",
    "rows = cur.fetchall()"
   ]
  },
  {
   "cell_type": "code",
   "execution_count": 57,
   "metadata": {},
   "outputs": [
    {
     "data": {
      "text/plain": [
       "[(1, 22, '이태양', '투수'),\n",
       " (2, 13, '최재후', '포수'),\n",
       " (3, 3, '노태형', '내야수'),\n",
       " (4, 19, '이용규', '외야수'),\n",
       " (5, 5, '윤대경', '투수'),\n",
       " (6, 12, '최재훈', '포수'),\n",
       " (7, 52, '김태균', '내야수'),\n",
       " (8, 25, '최진행', '외야수'),\n",
       " (9, 56, '박정현', '내야수'),\n",
       " (10, 51, '장진혁', '외야수'),\n",
       " (11, 33, '아아아', '투수'),\n",
       " (12, 11, '빼빼로', '외야수'),\n",
       " (13, 29, '최후진', '외야수'),\n",
       " (14, 38, '안영명', '투수'),\n",
       " (15, 54, '서균', '투수'),\n",
       " (16, 54, '서균', '투수'),\n",
       " (17, 54, '서균', '투수'),\n",
       " (18, 37, '안보영', '투수'),\n",
       " (19, 52, '서균', '투수')]"
      ]
     },
     "execution_count": 57,
     "metadata": {},
     "output_type": "execute_result"
    }
   ],
   "source": [
    "rows"
   ]
  },
  {
   "cell_type": "code",
   "execution_count": 40,
   "metadata": {},
   "outputs": [
    {
     "name": "stdout",
     "output_type": "stream",
     "text": [
      "(1, 22, '이태양', '투수')\n",
      "(5, 5, '윤대경', '투수')\n",
      "(11, 33, '아아아', '투수')\n"
     ]
    }
   ],
   "source": [
    "cur.execute(\"SELECT * FROM eagles WHERE Position='투수'\")\n",
    "pitchers = cur.fetchall()\n",
    "for pitcher in pitchers:\n",
    "    print(pitcher)"
   ]
  },
  {
   "cell_type": "markdown",
   "metadata": {},
   "source": [
    "# 데이터 추가"
   ]
  },
  {
   "cell_type": "code",
   "execution_count": 32,
   "metadata": {},
   "outputs": [
    {
     "data": {
      "text/plain": [
       "<sqlite3.Cursor at 0x19567de81f0>"
      ]
     },
     "execution_count": 32,
     "metadata": {},
     "output_type": "execute_result"
    }
   ],
   "source": [
    "cur.execute(\"INSERT INTO eagles(Back_no, Name, Position) VALUES(11,'빼빼로', '외야수')\")"
   ]
  },
  {
   "cell_type": "code",
   "execution_count": 37,
   "metadata": {},
   "outputs": [],
   "source": [
    "# execute로 추가 후 commit으로 넣어줘야한다. (DB에 반영)\n",
    "conn.commit()"
   ]
  },
  {
   "cell_type": "code",
   "execution_count": 41,
   "metadata": {},
   "outputs": [],
   "source": [
    "# 파라메터를 튜블로 이용하여 전달\n",
    "Back_no = 29\n",
    "Name = '최후진'\n",
    "Position = '외야수'\n",
    "\n",
    "sql = \"INSERT INTO eagles(Back_no, Name, Position) VALUES(?, ?, ?)\"\n",
    "cur.execute(sql,(Back_no, Name, Position))\n",
    "conn.commit()\n"
   ]
  },
  {
   "cell_type": "code",
   "execution_count": 45,
   "metadata": {},
   "outputs": [],
   "source": [
    "# 튜플 리스트 사용\n",
    "players = [(38, '안영명', '투수'), (54, '서균', '투수')]\n",
    "\n",
    "for player in players:\n",
    "    cur.execute(sql, player)\n",
    "conn.commit()"
   ]
  },
  {
   "cell_type": "code",
   "execution_count": null,
   "metadata": {},
   "outputs": [],
   "source": [
    "# executemany() 사용 "
   ]
  },
  {
   "cell_type": "code",
   "execution_count": 55,
   "metadata": {},
   "outputs": [],
   "source": [
    "players = [(37, '안보영', '투수'), (52, '서균', '투수')]\n",
    "cur.executemany(sql, players)\n",
    "conn.commit()"
   ]
  },
  {
   "cell_type": "markdown",
   "metadata": {},
   "source": [
    "## 데이터 조회"
   ]
  },
  {
   "cell_type": "code",
   "execution_count": 58,
   "metadata": {},
   "outputs": [
    {
     "name": "stdout",
     "output_type": "stream",
     "text": [
      "(2, 13, '최재후', '포수')\n",
      "(6, 12, '최재훈', '포수')\n"
     ]
    }
   ],
   "source": [
    "# 순회 조회\n",
    "sql = \"SELECT * FROM eagles WHERE Position='포수'\"\n",
    "cur.execute(sql)\n",
    "for result in cur:\n",
    "    print(result)"
   ]
  },
  {
   "cell_type": "code",
   "execution_count": 59,
   "metadata": {},
   "outputs": [
    {
     "data": {
      "text/plain": [
       "(2, 13, '최재후', '포수')"
      ]
     },
     "execution_count": 59,
     "metadata": {},
     "output_type": "execute_result"
    }
   ],
   "source": [
    "# 한건 조회  *************************************************************************************\n",
    "cur.execute(sql)\n",
    "result = cur.fetchone()    # 한번에 하나씩 가져옴\n",
    "result"
   ]
  },
  {
   "cell_type": "code",
   "execution_count": 60,
   "metadata": {},
   "outputs": [
    {
     "data": {
      "text/plain": [
       "(6, 12, '최재훈', '포수')"
      ]
     },
     "execution_count": 60,
     "metadata": {},
     "output_type": "execute_result"
    }
   ],
   "source": [
    "result = cur.fetchone()\n",
    "result"
   ]
  },
  {
   "cell_type": "code",
   "execution_count": 67,
   "metadata": {},
   "outputs": [
    {
     "data": {
      "text/plain": [
       "[(1, 22, '이태양', '투수'), (5, 5, '윤대경', '투수'), (11, 33, '아아아', '투수')]"
      ]
     },
     "execution_count": 67,
     "metadata": {},
     "output_type": "execute_result"
    }
   ],
   "source": [
    "# 갯수 지정 조회  *************************************************************************************\n",
    "sql = \"SELECT * FROM eagles WHERE Position='투수'\"\n",
    "cur.execute(sql)\n",
    "result =cur.fetchmany(3)\n",
    "result"
   ]
  },
  {
   "cell_type": "code",
   "execution_count": 68,
   "metadata": {},
   "outputs": [
    {
     "data": {
      "text/plain": [
       "[(14, 38, '안영명', '투수'),\n",
       " (15, 54, '서균', '투수'),\n",
       " (16, 54, '서균', '투수'),\n",
       " (17, 54, '서균', '투수'),\n",
       " (18, 37, '안보영', '투수'),\n",
       " (19, 52, '서균', '투수')]"
      ]
     },
     "execution_count": 68,
     "metadata": {},
     "output_type": "execute_result"
    }
   ],
   "source": [
    "# 전부 조회 *************************************************************************************\n",
    "result =cur.fetchall()\n",
    "result"
   ]
  },
  {
   "cell_type": "code",
   "execution_count": 72,
   "metadata": {},
   "outputs": [
    {
     "data": {
      "text/plain": [
       "[(22, '이태양'),\n",
       " (52, '김태균'),\n",
       " (25, '최진행'),\n",
       " (56, '박정현'),\n",
       " (51, '장진혁'),\n",
       " (33, '아아아'),\n",
       " (29, '최후진'),\n",
       " (38, '안영명'),\n",
       " (54, '서균'),\n",
       " (54, '서균'),\n",
       " (54, '서균'),\n",
       " (37, '안보영'),\n",
       " (52, '서균')]"
      ]
     },
     "execution_count": 72,
     "metadata": {},
     "output_type": "execute_result"
    }
   ],
   "source": [
    "# 필요 컬럼만 조회\n",
    "sql = \"SELECT Back_no, name FROM eagles WHERE Back_no > 20\"\n",
    "cur.execute(sql)\n",
    "result =cur.fetchall()\n",
    "result\n"
   ]
  },
  {
   "cell_type": "code",
   "execution_count": 73,
   "metadata": {},
   "outputs": [
    {
     "data": {
      "text/plain": [
       "[(33, '아아아'), (38, '안영명'), (37, '안보영')]"
      ]
     },
     "execution_count": 73,
     "metadata": {},
     "output_type": "execute_result"
    }
   ],
   "source": [
    "# 백넘버가 30~30까지인 선수들의 명단\n",
    "sql = \"SELECT Back_no, name FROM eagles WHERE Back_no between 30 and 39\"\n",
    "cur.execute(sql)\n",
    "result =cur.fetchall()\n",
    "result"
   ]
  },
  {
   "cell_type": "code",
   "execution_count": 74,
   "metadata": {},
   "outputs": [
    {
     "data": {
      "text/plain": [
       "(9, 56, '박정현', '내야수')"
      ]
     },
     "execution_count": 74,
     "metadata": {},
     "output_type": "execute_result"
    }
   ],
   "source": [
    "# 백넘버가 가장 큰 번호를 갖는 선수\n",
    "sql = \"SELECT * FROM eagles order by Back_no desc limit 1\"\n",
    "cur.execute(sql)\n",
    "result =cur.fetchone()\n",
    "result"
   ]
  },
  {
   "cell_type": "code",
   "execution_count": 87,
   "metadata": {},
   "outputs": [
    {
     "data": {
      "text/plain": [
       "[('내야수', 3), ('외야수', 5), ('투수', 9), ('포수', 2)]"
      ]
     },
     "execution_count": 87,
     "metadata": {},
     "output_type": "execute_result"
    }
   ],
   "source": [
    "# 포지션 별 선수수\n",
    "sql = \"SELECT position, count(*) FROM eagles group by position\"\n",
    "cur.execute(sql)\n",
    "result =cur.fetchall()\n",
    "result"
   ]
  },
  {
   "cell_type": "markdown",
   "metadata": {},
   "source": [
    "### 데이터 검색"
   ]
  },
  {
   "cell_type": "code",
   "execution_count": 90,
   "metadata": {},
   "outputs": [],
   "source": [
    "# 백넘버가 57번인 선수\n",
    "back_no = 22\n",
    "sql = \"SELECT * FROM eagles where Back_no = ?\"\n",
    "cur.execute(sql, back_no)\n",
    "result =cur.fetchall()\n",
    "result"
   ]
  },
  {
   "cell_type": "code",
   "execution_count": 93,
   "metadata": {},
   "outputs": [
    {
     "data": {
      "text/plain": [
       "(1, 22, '이태양', '투수')"
      ]
     },
     "execution_count": 93,
     "metadata": {},
     "output_type": "execute_result"
    }
   ],
   "source": [
    "cur.execute(sql, (back_no,))\n",
    "result =cur.fetchone()\n",
    "result"
   ]
  },
  {
   "cell_type": "markdown",
   "metadata": {},
   "source": [
    "### 데이터 변경"
   ]
  },
  {
   "cell_type": "code",
   "execution_count": 104,
   "metadata": {},
   "outputs": [],
   "source": [
    "# id 11 선수인 포지션을 외야수로 변경\n",
    "\n",
    "ids = 11\n",
    "position = '외야수'\n",
    "sql = \"UPDATE eagles Set Position = ? where id = ?\"\n",
    "cur.execute(sql, (position, ids))\n",
    "conn.commit()         #변경이 되어있으므로\n",
    "result = cur.fetchone()\n",
    "result"
   ]
  },
  {
   "cell_type": "markdown",
   "metadata": {},
   "source": [
    "### 데이터 삭제"
   ]
  },
  {
   "cell_type": "code",
   "execution_count": 106,
   "metadata": {},
   "outputs": [],
   "source": [
    "ids = 13\n",
    "sql = \"DELETE FROM eagles where id = ?\"\n",
    "cur.execute(sql, (ids, ))\n",
    "conn.commit()         #변경이 되어있으므로"
   ]
  },
  {
   "cell_type": "code",
   "execution_count": null,
   "metadata": {},
   "outputs": [],
   "source": []
  },
  {
   "cell_type": "code",
   "execution_count": null,
   "metadata": {},
   "outputs": [],
   "source": []
  },
  {
   "cell_type": "code",
   "execution_count": null,
   "metadata": {},
   "outputs": [],
   "source": []
  },
  {
   "cell_type": "code",
   "execution_count": null,
   "metadata": {},
   "outputs": [],
   "source": []
  },
  {
   "cell_type": "code",
   "execution_count": null,
   "metadata": {},
   "outputs": [],
   "source": []
  },
  {
   "cell_type": "code",
   "execution_count": 8,
   "metadata": {},
   "outputs": [],
   "source": [
    "conn.close()"
   ]
  }
 ],
 "metadata": {
  "kernelspec": {
   "display_name": "Python 3",
   "language": "python",
   "name": "python3"
  },
  "language_info": {
   "codemirror_mode": {
    "name": "ipython",
    "version": 3
   },
   "file_extension": ".py",
   "mimetype": "text/x-python",
   "name": "python",
   "nbconvert_exporter": "python",
   "pygments_lexer": "ipython3",
   "version": "3.7.6"
  }
 },
 "nbformat": 4,
 "nbformat_minor": 4
}
