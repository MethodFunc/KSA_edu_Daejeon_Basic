{
 "cells": [
  {
   "cell_type": "markdown",
   "metadata": {},
   "source": [
    "# Chapter 05. List"
   ]
  },
  {
   "cell_type": "markdown",
   "metadata": {},
   "source": [
    "#"
   ]
  },
  {
   "cell_type": "code",
   "execution_count": 3,
   "metadata": {
    "scrolled": true
   },
   "outputs": [
    {
     "name": "stdout",
     "output_type": "stream",
     "text": [
      "['사과', '오렌지', '딸기', '포도', '감', '키위', '멜론', '수박']\n",
      "[5, 10.2, '탁구', True, [4, 5, 6]]\n",
      "[1, 3, 5, 7, 9]\n",
      "\n",
      "사과\n",
      "['오렌지', '딸기', '포도']\n",
      "['딸기', '포도', '감', '키위', '멜론', '수박']\n",
      "수박\n",
      "['감', '키위']\n",
      "['키위', '멜론', '수박']\n"
     ]
    }
   ],
   "source": [
    "# ex 5-1\n",
    "\n",
    "fruits = ['사과', '오렌지', '딸기', '포도', '감', '키위', '멜론', '수박']\n",
    "list1 = [5, 10.2, '탁구', True, [4,5,6]]\n",
    "numbers = list(range(1, 10, 2))\n",
    "\n",
    "print(fruits)\n",
    "print(list1)\n",
    "print(numbers)\n",
    "\n",
    "print()\n",
    "\n",
    "print(fruits[0])\n",
    "print(fruits[1:4])\n",
    "print(fruits[2:])\n",
    "print(fruits[-1])\n",
    "print(fruits[-4:-2])\n",
    "print(fruits[-3:])"
   ]
  },
  {
   "cell_type": "code",
   "execution_count": 4,
   "metadata": {},
   "outputs": [
    {
     "name": "stdout",
     "output_type": "stream",
     "text": [
      "['red', 'green', 'blue', 'yellow']\n",
      "['red', 'black', 'green', 'blue', 'yellow']\n",
      "['red', 'black', 'green', 'blue', 'yellow', 'purple', 'white']\n",
      "['red', 'black', 'green', 'blue', 'yellow', 'purple', 'white', 'purple', 'white']\n"
     ]
    }
   ],
   "source": [
    "# 5-2\n",
    "a = ['red', 'green', 'blue']\n",
    "\n",
    "a.append('yellow')\n",
    "print(a)\n",
    "\n",
    "a.insert(1, 'black')\n",
    "print(a)\n",
    "\n",
    "b = ['purple', 'white']\n",
    "a.extend(b)\n",
    "print(a)\n",
    "\n",
    "c = a + b\n",
    "\n",
    "print(c)"
   ]
  },
  {
   "cell_type": "code",
   "execution_count": 5,
   "metadata": {},
   "outputs": [
    {
     "name": "stdout",
     "output_type": "stream",
     "text": [
      "2\n"
     ]
    }
   ],
   "source": [
    "# 5-3\n",
    "\n",
    "a = [10,20,30,40,50,60,70,80,90,100]\n",
    "\n",
    "x = a.index(30)\n",
    "print(x)"
   ]
  },
  {
   "cell_type": "code",
   "execution_count": 6,
   "metadata": {},
   "outputs": [
    {
     "name": "stdout",
     "output_type": "stream",
     "text": [
      "3\n"
     ]
    }
   ],
   "source": [
    "# ex 5-4\n",
    "list1 = ['a', 'bb', 'c', 'd','aaa', 'c', 'ddd', 'aaa',  'b', 'cc', 'd', 'aaa', ]\n",
    "length = list1.count('aaa')\n",
    "\n",
    "print(length)"
   ]
  },
  {
   "cell_type": "code",
   "execution_count": 7,
   "metadata": {},
   "outputs": [
    {
     "name": "stdout",
     "output_type": "stream",
     "text": [
      "[-7, 1, 3, 5, 8, 9, 11, 13]\n",
      "[13, 11, 9, 8, 5, 3, 1, -7]\n"
     ]
    }
   ],
   "source": [
    "# ex 5-5\n",
    "list2 = [-7, 1, 5, 8, 3, 9, 11, 13]\n",
    "list2.sort()\n",
    "print(list2)\n",
    "\n",
    "list2.sort(reverse=True)\n",
    "print(list2)"
   ]
  },
  {
   "cell_type": "code",
   "execution_count": 8,
   "metadata": {},
   "outputs": [
    {
     "name": "stdout",
     "output_type": "stream",
     "text": [
      "[1, 2, 3, 1, 2, 3, 1, 2, 3]\n"
     ]
    }
   ],
   "source": [
    "a = [1,2,3]\n",
    "print(a*3)"
   ]
  },
  {
   "cell_type": "code",
   "execution_count": 9,
   "metadata": {
    "scrolled": true
   },
   "outputs": [
    {
     "name": "stdout",
     "output_type": "stream",
     "text": [
      "apple\n",
      "orange\n",
      "banana\n"
     ]
    }
   ],
   "source": [
    "# ex 5-6\n",
    "\n",
    "fruits = ['apple', 'orange', 'banana']\n",
    "\n",
    "for fruit in fruits :\n",
    "    print(fruit)\n",
    "    "
   ]
  },
  {
   "cell_type": "code",
   "execution_count": 13,
   "metadata": {},
   "outputs": [
    {
     "name": "stdout",
     "output_type": "stream",
     "text": [
      "666 83.25\n"
     ]
    }
   ],
   "source": [
    "# ex 5-7\n",
    "\n",
    "scores = [88,75,90,95,77,69,80,92]\n",
    "\n",
    "sum = 0\n",
    "for score in scores:\n",
    "    sum += score\n",
    "\n",
    "avg = sum / len(scores)\n",
    "\n",
    "print(sum, avg)"
   ]
  },
  {
   "cell_type": "code",
   "execution_count": 14,
   "metadata": {},
   "outputs": [
    {
     "name": "stdout",
     "output_type": "stream",
     "text": [
      "[10, 20, 30]\n",
      "[40, 50, 60]\n",
      "10\n",
      "20\n",
      "30\n",
      "40\n",
      "50\n",
      "60\n"
     ]
    }
   ],
   "source": [
    "# ex 5-9\n",
    "\n",
    "numbers = [[10, 20, 30], [40, 50, 60]]\n",
    "\n",
    "print(numbers[0])\n",
    "print(numbers[1])\n",
    "\n",
    "print(numbers[0][0])\n",
    "print(numbers[0][1])\n",
    "print(numbers[0][2])\n",
    "\n",
    "print(numbers[1][0])\n",
    "print(numbers[1][1])\n",
    "print(numbers[1][2])"
   ]
  },
  {
   "cell_type": "code",
   "execution_count": 17,
   "metadata": {},
   "outputs": [
    {
     "name": "stdout",
     "output_type": "stream",
     "text": [
      "2\n",
      "3\n"
     ]
    }
   ],
   "source": [
    "print(len(numbers))\n",
    "print(len(numbers[0]))"
   ]
  },
  {
   "cell_type": "code",
   "execution_count": 18,
   "metadata": {},
   "outputs": [
    {
     "name": "stdout",
     "output_type": "stream",
     "text": [
      "1번째 학생의 합계 : 260, 평균 : 86.67\n",
      "2번째 학생의 합계 : 258, 평균 : 86.00\n",
      "3번째 학생의 합계 : 254, 평균 : 84.67\n",
      "4번째 학생의 합계 : 254, 평균 : 84.67\n",
      "5번째 학생의 합계 : 257, 평균 : 85.67\n",
      "6번째 학생의 합계 : 236, 평균 : 78.67\n",
      "7번째 학생의 합계 : 248, 평균 : 82.67\n",
      "8번째 학생의 합계 : 258, 평균 : 86.00\n"
     ]
    }
   ],
   "source": [
    "# ex 5-10\n",
    "\n",
    "scores = [[96, 84, 80], [96, 86, 76], [76, 95, 83], [89, 96, 69], \\\n",
    "          [90, 76, 91], [82, 66, 88], [83, 86, 79], [85, 90, 83]]\n",
    "\n",
    "for i in range(len(scores)) :\n",
    "    sum = 0\n",
    "    for j in range(len(scores[i])) :\n",
    "        sum = sum + scores[i][j]\n",
    "\n",
    "    avg = sum/len(scores[i])\n",
    "\n",
    "    print('%d번째 학생의 합계 : %d, 평균 : %.2f' % (i+1, sum, avg))"
   ]
  },
  {
   "cell_type": "code",
   "execution_count": 25,
   "metadata": {},
   "outputs": [
    {
     "name": "stdout",
     "output_type": "stream",
     "text": [
      "합계 : 260, 평균 : 86.67\n",
      "합계 : 258, 평균 : 86.00\n",
      "합계 : 254, 평균 : 84.67\n",
      "합계 : 254, 평균 : 84.67\n",
      "합계 : 257, 평균 : 85.67\n",
      "합계 : 236, 평균 : 78.67\n",
      "합계 : 248, 평균 : 82.67\n",
      "합계 : 258, 평균 : 86.00\n"
     ]
    }
   ],
   "source": [
    "for score in scores:\n",
    "    sum = 0\n",
    "    for x in score:\n",
    "        sum += x\n",
    "    avg = sum / len(score)\n",
    "    \n",
    "    print('합계 : %d, 평균 : %.2f' % (sum, avg))"
   ]
  },
  {
   "cell_type": "code",
   "execution_count": 32,
   "metadata": {},
   "outputs": [
    {
     "name": "stdout",
     "output_type": "stream",
     "text": [
      "수 : 3명\n",
      "우 : 6명\n",
      "미 : 3명\n",
      "양 : 4명\n",
      "가 : 4명\n"
     ]
    }
   ],
   "source": [
    "# Q 5-6\n",
    "s = [64, 89, 100, 85, 77, 58, 79, 67, 96, 87,\n",
    "         87, 36, 82, 98, 84, 76, 63, 69, 53, 22]\n",
    "\n",
    "count_su = 0\n",
    "count_woo = 0\n",
    "count_mi = 0 \n",
    "count_yang = 0 \n",
    "count_ga = 0\n",
    "\n",
    "i = 0\n",
    "while i < len(s) :\n",
    "    if s[i] >= 90 and s[i] <=100 :\n",
    "        count_su = count_su + 1\n",
    "        \n",
    "    if s[i] >= 80 and s[i] <= 89 :\n",
    "        count_woo = count_woo + 1\n",
    "\n",
    "    if s[i] >= 70 and s[i] <= 79 :\n",
    "        count_mi = count_mi + 1\n",
    "\n",
    "    if s[i] >= 60 and s[i] <= 69 :\n",
    "        count_yang = count_yang + 1\n",
    "\n",
    "    if s[i] >= 0 and s[i] <= 59 :\n",
    "        count_ga = count_ga + 1\n",
    "\n",
    "    i += 1\n",
    "    \n",
    "print('수 : %d명' % count_su)\n",
    "print('우 : %d명' % count_woo)\n",
    "print('미 : %d명' % count_mi)\n",
    "print('양 : %d명' % count_yang)\n",
    "print('가 : %d명' % count_ga)"
   ]
  },
  {
   "cell_type": "code",
   "execution_count": 33,
   "metadata": {},
   "outputs": [
    {
     "name": "stdout",
     "output_type": "stream",
     "text": [
      "tr_in 에서 밑줄(_) 안에 들어갈 알파벳은?a\n",
      "정답입니다!\n",
      "b_s 에서 밑줄(_) 안에 들어갈 알파벳은?b\n",
      "틀렸습니다!\n",
      "_axi 에서 밑줄(_) 안에 들어갈 알파벳은?c\n",
      "틀렸습니다!\n",
      "air_lane 에서 밑줄(_) 안에 들어갈 알파벳은?d\n",
      "틀렸습니다!\n"
     ]
    }
   ],
   "source": [
    "# Q 5-7\n",
    "questions = ['tr_in', 'b_s', '_axi', 'air_lane']\n",
    "answers   = ['a', 'u', 't','p']\n",
    "\n",
    "for i in range(len(questions)) :\n",
    "    q = '%s 에서 밑줄(_) 안에 들어갈 알파벳은?' % questions[i]\n",
    "    ans = input(q)\n",
    "\n",
    "    if ans == answers[i] :\n",
    "        print('정답입니다!')\n",
    "    else :\n",
    "        print('틀렸습니다!')"
   ]
  },
  {
   "cell_type": "code",
   "execution_count": 29,
   "metadata": {
    "scrolled": true
   },
   "outputs": [
    {
     "name": "stdout",
     "output_type": "stream",
     "text": [
      "1번째 학생의 합계 : 260, 평균 : 86.67\n",
      "2번째 학생의 합계 : 258, 평균 : 86.00\n",
      "3번째 학생의 합계 : 254, 평균 : 84.67\n",
      "4번째 학생의 합계 : 254, 평균 : 84.67\n",
      "5번째 학생의 합계 : 257, 평균 : 85.67\n",
      "6번째 학생의 합계 : 236, 평균 : 78.67\n",
      "7번째 학생의 합계 : 248, 평균 : 82.67\n",
      "8번째 학생의 합계 : 258, 평균 : 86.00\n"
     ]
    }
   ],
   "source": [
    "# Q 5-8\n",
    "scores = [[96, 84, 80], [96, 86, 76], [76, 95, 83], [89, 96, 69], \\\n",
    "          [90, 76, 91], [82, 66, 88], [83, 86, 79], [85, 90, 83]]\n",
    "\n",
    "i = 0\n",
    "while i < len(scores):\n",
    "    sum = 0\n",
    "    j = 0\n",
    "    while j < len(scores[i]):\n",
    "        sum += scores[i][j]\n",
    "        j += 1\n",
    "    \n",
    "    avg = sum/len(scores[i])\n",
    "    print('%d번째 학생의 합계 : %d, 평균 : %.2f' % (i+1, sum, avg))\n",
    "    i += 1"
   ]
  },
  {
   "cell_type": "code",
   "execution_count": 30,
   "metadata": {},
   "outputs": [
    {
     "name": "stdout",
     "output_type": "stream",
     "text": [
      "성적을 입력하세요(종료시 -1 입력) : 75\n",
      "성적을 입력하세요(종료시 -1 입력) : 83\n",
      "성적을 입력하세요(종료시 -1 입력) : 88\n",
      "성적을 입력하세요(종료시 -1 입력) : 93\n",
      "성적을 입력하세요(종료시 -1 입력) : 97\n",
      "성적을 입력하세요(종료시 -1 입력) : -1\n",
      "합계 : 436, 평균 : 87.20\n"
     ]
    }
   ],
   "source": [
    "# Q 5-9\n",
    "\n",
    "scores = []\n",
    "\n",
    "while True:\n",
    "    score = int(input('성적을 입력하세요(종료시 -1 입력) : '))\n",
    "    if score == -1:\n",
    "        break\n",
    "    else:\n",
    "        scores.append(score)\n",
    "sum = 0\n",
    "for i in range(0, len(scores)):\n",
    "    sum += scores[i]\n",
    "    \n",
    "avg = sum / len(scores)\n",
    "\n",
    "print('합계 : %d, 평균 : %.2f' % (sum, avg))"
   ]
  },
  {
   "cell_type": "code",
   "execution_count": 31,
   "metadata": {},
   "outputs": [
    {
     "name": "stdout",
     "output_type": "stream",
     "text": [
      "  □   □   □   □   □   □   □   □   □   □ \n",
      "  □   □   □   □   □   □   □   □   □   □ \n",
      "  □   □   □   □   □   □   □   □   □   □ \n",
      "  ■   ■   ■   □   □   □   □   □   ■   □ \n",
      "  □   □   □   □   □   ■   □   □   □   □ \n",
      "  □   ■   □   □   □   ■   □   ■   □   □ \n",
      "  □   □   □   □   □   □   ■   □   □   □ \n",
      "  ■   □   ■   □   □   □   □   □   □   ■ \n",
      "\n",
      "※ 예약 가능 : ■, 예약 불가 : □\n"
     ]
    }
   ],
   "source": [
    "# Q5-10\n",
    "\n",
    "seats = [[0, 0, 0, 0, 0, 0, 0, 0, 0, 0],\\\n",
    "         [0, 0, 0, 0, 0, 0, 0, 0, 0, 0],\\\n",
    "         [0, 0, 0, 0, 0, 0, 0, 0, 0, 0],\\\n",
    "         [1, 1, 1, 0, 0, 0, 0, 0, 1, 0],\\\n",
    "         [0, 0, 0, 0, 0, 1, 0, 0, 0, 0],\\\n",
    "         [0, 1, 0, 0, 0, 1, 0, 1, 0, 0],\\\n",
    "         [0, 0, 0, 0, 0, 0, 1, 0, 0, 0],\\\n",
    "         [1, 0, 1, 0, 0, 0, 0, 0, 0, 1]]\n",
    "\n",
    "\n",
    "for i in range(len(seats)):\n",
    "    for j in range(len(seats[i])):\n",
    "        if seats[i][j] == 0:\n",
    "            print(\"%3s\"%'□', end=' ')\n",
    "        else:\n",
    "            print(\"%3s\"%'■', end=' ')\n",
    "    print()\n",
    "    \n",
    "print('\\n※ 예약 가능 : ■, 예약 불가 : □')    "
   ]
  },
  {
   "cell_type": "code",
   "execution_count": 1,
   "metadata": {},
   "outputs": [
    {
     "name": "stdout",
     "output_type": "stream",
     "text": [
      "[1, 4, 9, 16, 25]\n"
     ]
    }
   ],
   "source": [
    "a = [ i * i for i in range(1,6)]\n",
    "print(a)"
   ]
  },
  {
   "cell_type": "code",
   "execution_count": 4,
   "metadata": {},
   "outputs": [
    {
     "name": "stdout",
     "output_type": "stream",
     "text": [
      "[1, 9, 25, 49, 81]\n"
     ]
    }
   ],
   "source": [
    "b = [i*i for i in range(1,10) if i % 2 == 1]\n",
    "print(b)"
   ]
  },
  {
   "cell_type": "code",
   "execution_count": 5,
   "metadata": {},
   "outputs": [
    {
     "name": "stdout",
     "output_type": "stream",
     "text": [
      "[2, 4, 6, 8, 10, 12, 14, 16, 18, 3, 6, 9, 12, 15, 18, 21, 24, 27, 4, 8, 12, 16, 20, 24, 28, 32, 36, 5, 10, 15, 20, 25, 30, 35, 40, 45, 6, 12, 18, 24, 30, 36, 42, 48, 54, 7, 14, 21, 28, 35, 42, 49, 56, 63, 8, 16, 24, 32, 40, 48, 56, 64, 72, 9, 18, 27, 36, 45, 54, 63, 72, 81]\n"
     ]
    }
   ],
   "source": [
    "a = [i * j for j in range(2,10) for i in range(1, 10)]\n",
    "print(a)"
   ]
  }
 ],
 "metadata": {
  "kernelspec": {
   "display_name": "Python 3",
   "language": "python",
   "name": "python3"
  },
  "language_info": {
   "codemirror_mode": {
    "name": "ipython",
    "version": 3
   },
   "file_extension": ".py",
   "mimetype": "text/x-python",
   "name": "python",
   "nbconvert_exporter": "python",
   "pygments_lexer": "ipython3",
   "version": "3.7.6"
  }
 },
 "nbformat": 4,
 "nbformat_minor": 4
}
