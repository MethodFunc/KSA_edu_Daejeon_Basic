{
 "cells": [
  {
   "cell_type": "markdown",
   "metadata": {},
   "source": [
    "# 6장 연습문제"
   ]
  },
  {
   "cell_type": "code",
   "execution_count": 1,
   "metadata": {},
   "outputs": [],
   "source": [
    "def print_mileage(a):\n",
    "    i = 1\n",
    "    for key in a:\n",
    "        print('%d. 아이디 : %s, 마일리지 : %d점' % (i, key, a[key]))\n",
    "        i += 1"
   ]
  },
  {
   "cell_type": "code",
   "execution_count": 2,
   "metadata": {},
   "outputs": [],
   "source": [
    "customer = {'kim99' : 12000, 'lee66' : 11000, 'han55' : 3000, 'hong77':5000, 'hwang33':18000}"
   ]
  },
  {
   "cell_type": "markdown",
   "metadata": {},
   "source": [
    "### 1."
   ]
  },
  {
   "cell_type": "code",
   "execution_count": 3,
   "metadata": {
    "scrolled": true
   },
   "outputs": [
    {
     "name": "stdout",
     "output_type": "stream",
     "text": [
      "1. 아이디 : kim99, 마일리지 : 12000점\n",
      "2. 아이디 : lee66, 마일리지 : 11000점\n",
      "3. 아이디 : han55, 마일리지 : 3000점\n",
      "4. 아이디 : hong77, 마일리지 : 5000점\n",
      "5. 아이디 : hwang33, 마일리지 : 18000점\n"
     ]
    }
   ],
   "source": [
    "print_mileage(customer)"
   ]
  },
  {
   "cell_type": "markdown",
   "metadata": {},
   "source": [
    "### 2."
   ]
  },
  {
   "cell_type": "code",
   "execution_count": 4,
   "metadata": {},
   "outputs": [
    {
     "name": "stdout",
     "output_type": "stream",
     "text": [
      "han55님의 마일리지가 5000점으로 수정 되었습니다.\n"
     ]
    }
   ],
   "source": [
    "customer['han55'] = 5000\n",
    "print('han55님의 마일리지가 5000점으로 수정 되었습니다.')"
   ]
  },
  {
   "cell_type": "markdown",
   "metadata": {},
   "source": [
    "### 3."
   ]
  },
  {
   "cell_type": "code",
   "execution_count": 5,
   "metadata": {},
   "outputs": [
    {
     "name": "stdout",
     "output_type": "stream",
     "text": [
      "jang88님의 마일리지(7000점)가 추가 되었습니다.\n"
     ]
    }
   ],
   "source": [
    "customer['jang88'] = 7000\n",
    "print('jang88님의 마일리지(7000점)가 추가 되었습니다.')"
   ]
  },
  {
   "cell_type": "markdown",
   "metadata": {},
   "source": [
    "### 4."
   ]
  },
  {
   "cell_type": "code",
   "execution_count": 6,
   "metadata": {},
   "outputs": [
    {
     "name": "stdout",
     "output_type": "stream",
     "text": [
      "hwang33님의 18000점이 가장 높은 점수입니다.\n"
     ]
    }
   ],
   "source": [
    "a = list(customer.keys())\n",
    "max = customer[a[0]]\n",
    "for key in customer:\n",
    "    if max < customer[key]:\n",
    "        max = customer[key]\n",
    "        human = key\n",
    "print('%s님의 %d점이 가장 높은 점수입니다.'%(human, max))"
   ]
  },
  {
   "cell_type": "code",
   "execution_count": 7,
   "metadata": {},
   "outputs": [],
   "source": [
    "days = {'월': 25.5, '화': 28.3, '수': 33.2, '목': 32.1, '금': 17.3, '토': 35.3, '일': 33.3}"
   ]
  },
  {
   "cell_type": "markdown",
   "metadata": {},
   "source": [
    "### 5."
   ]
  },
  {
   "cell_type": "code",
   "execution_count": 8,
   "metadata": {},
   "outputs": [
    {
     "name": "stdout",
     "output_type": "stream",
     "text": [
      "--------------------------------------------------\n",
      "    월     화     수     목     금     토     일 \n",
      "--------------------------------------------------\n",
      "  25.5   28.3   33.2   32.1   17.3   35.3   33.3 \n",
      "--------------------------------------------------\n"
     ]
    }
   ],
   "source": [
    "print('-'*50)\n",
    "for key in days:\n",
    "    print('%5s' %key , end=' ')\n",
    "print()\n",
    "print('-'*50)\n",
    "for values in days:\n",
    "    print('%6.1f' %days[values], end= ' ')\n",
    "print()\n",
    "print('-'*50)"
   ]
  },
  {
   "cell_type": "markdown",
   "metadata": {},
   "source": [
    "### 6."
   ]
  },
  {
   "cell_type": "code",
   "execution_count": 9,
   "metadata": {},
   "outputs": [
    {
     "name": "stdout",
     "output_type": "stream",
     "text": [
      "가장 낮은 최고 기온 : 17.3도\n"
     ]
    }
   ],
   "source": [
    "b = list(days.keys())\n",
    "min_value = days[b[0]]\n",
    "for key in days:\n",
    "    if days[key] < min_value:\n",
    "        min_value = days[key]\n",
    "\n",
    "print('가장 낮은 최고 기온 : %s도'%min_value)"
   ]
  },
  {
   "cell_type": "markdown",
   "metadata": {},
   "source": [
    "### 7."
   ]
  },
  {
   "cell_type": "code",
   "execution_count": 10,
   "metadata": {},
   "outputs": [
    {
     "name": "stdout",
     "output_type": "stream",
     "text": [
      "기온이 30도 이상인 요일 : 수 목 토 일 "
     ]
    }
   ],
   "source": [
    "high_temp = []\n",
    "\n",
    "for key, values in days.items():\n",
    "    if values > 30:\n",
    "        high_temp.append(key)\n",
    "\n",
    "print('기온이 30도 이상인 요일 :', end=' ')\n",
    "for i in high_temp:\n",
    "    print(i, end=' ')"
   ]
  },
  {
   "cell_type": "markdown",
   "metadata": {},
   "source": [
    "### 8."
   ]
  },
  {
   "cell_type": "code",
   "execution_count": 11,
   "metadata": {},
   "outputs": [
    {
     "name": "stdout",
     "output_type": "stream",
     "text": [
      "일주일간 최고 기온의 평균 29.3\n"
     ]
    }
   ],
   "source": [
    "sum = 0\n",
    "for values in days.values():\n",
    "    sum += values\n",
    "\n",
    "avg = sum / len(days)\n",
    "print('일주일간 최고 기온의 평균 %.1f'%avg)"
   ]
  },
  {
   "cell_type": "markdown",
   "metadata": {},
   "source": [
    "# 7장 연습문제"
   ]
  },
  {
   "cell_type": "markdown",
   "metadata": {},
   "source": [
    "### 1."
   ]
  },
  {
   "cell_type": "code",
   "execution_count": 12,
   "metadata": {},
   "outputs": [
    {
     "name": "stdout",
     "output_type": "stream",
     "text": [
      "20, 10\n"
     ]
    }
   ],
   "source": [
    "def f1(a):\n",
    "    a += 10\n",
    "    print(a, end=', ')\n",
    "\n",
    "a = 10\n",
    "f1(a)\n",
    "print(a)"
   ]
  },
  {
   "cell_type": "markdown",
   "metadata": {},
   "source": [
    "### 2."
   ]
  },
  {
   "cell_type": "code",
   "execution_count": 13,
   "metadata": {},
   "outputs": [
    {
     "name": "stdout",
     "output_type": "stream",
     "text": [
      "300, 100, 300\n"
     ]
    }
   ],
   "source": [
    "def f2(a):\n",
    "    global y\n",
    "    y += a\n",
    "    x = 500\n",
    "    print(y, end=', ')\n",
    "\n",
    "x = 100\n",
    "y = 200\n",
    "\n",
    "f2(x)\n",
    "print(x, end=', ')\n",
    "print(y)"
   ]
  },
  {
   "cell_type": "markdown",
   "metadata": {},
   "source": [
    "### 3."
   ]
  },
  {
   "cell_type": "code",
   "execution_count": 14,
   "metadata": {},
   "outputs": [
    {
     "name": "stdout",
     "output_type": "stream",
     "text": [
      "n의 값을 입력하세요 : 20\n",
      "2 3 5 7 11 13 17 19 "
     ]
    }
   ],
   "source": [
    "def prime_number(n):\n",
    "    for i in range(2, n+1):\n",
    "        for j in range(2, i+1):\n",
    "            if i == j:\n",
    "                print(i, end=' ')\n",
    "            elif i % j == 0:\n",
    "                break\n",
    "\n",
    "n = int(input(\"n의 값을 입력하세요 : \"))\n",
    "prime_number(n)"
   ]
  },
  {
   "cell_type": "markdown",
   "metadata": {},
   "source": [
    "### 4."
   ]
  },
  {
   "cell_type": "code",
   "execution_count": 15,
   "metadata": {},
   "outputs": [
    {
     "name": "stdout",
     "output_type": "stream",
     "text": [
      "문자열을 입력하세요. : I love you.\n",
      ".uoy evol I\n"
     ]
    }
   ],
   "source": [
    "reverse_str = lambda a: a[::-1]\n",
    "\n",
    "n = input('문자열을 입력하세요. : ')\n",
    "print(reverse_str(n))"
   ]
  },
  {
   "cell_type": "markdown",
   "metadata": {},
   "source": [
    "### 5."
   ]
  },
  {
   "cell_type": "code",
   "execution_count": 16,
   "metadata": {},
   "outputs": [
    {
     "name": "stdout",
     "output_type": "stream",
     "text": [
      "[1, 4, 9, 16, 25]\n"
     ]
    }
   ],
   "source": [
    "def numSquare(num):\n",
    "    list_new = []\n",
    "    for i in range(1, num+1):\n",
    "        list_new.append(i**2)\n",
    "    return list_new\n",
    "\n",
    "n = 5\n",
    "result = numSquare(n)\n",
    "print(result)"
   ]
  },
  {
   "cell_type": "markdown",
   "metadata": {},
   "source": [
    "### 6."
   ]
  },
  {
   "cell_type": "code",
   "execution_count": 17,
   "metadata": {},
   "outputs": [
    {
     "name": "stdout",
     "output_type": "stream",
     "text": [
      "첫 번째 수를 입력하세요 : 8\n",
      "두 번째 수를 입력하세요 : 20\n",
      "8와 20의 최소공배수 : 40\n"
     ]
    }
   ],
   "source": [
    "def gcd(x, y):\n",
    "    if x > y:\n",
    "        small = y\n",
    "    else:\n",
    "        small = x\n",
    "\n",
    "    for i in range(1, small+1):\n",
    "        if(x%i == 0 ) and (y % i == 0):\n",
    "            result = i\n",
    "    return result\n",
    "\n",
    "lcm = lambda x, y: x * y / gcd(x, y)\n",
    "\n",
    "n1 = int(input('첫 번째 수를 입력하세요 : '))\n",
    "n2 = int(input('두 번째 수를 입력하세요 : '))\n",
    "\n",
    "print('%d와 %d의 최소공배수 : %d'%(n1, n2, lcm(n1, n2)))\n"
   ]
  },
  {
   "cell_type": "markdown",
   "metadata": {},
   "source": [
    "### 7."
   ]
  },
  {
   "cell_type": "code",
   "execution_count": null,
   "metadata": {
    "scrolled": true
   },
   "outputs": [
    {
     "name": "stdout",
     "output_type": "stream",
     "text": [
      "※ 비밀번호는 10자리 이상, 영문 대문자를 포함하여야합니다.\n",
      "비밀번호 : 12we12r1wqt1\n",
      "비밀번호 확인 : 123\n",
      "비밀번호가 잘못 되었습니다! 다시 입력해주세요\n"
     ]
    }
   ],
   "source": [
    "def checks(a, b):\n",
    "    for uppercheck in a:\n",
    "        if uppercheck.isupper() == True:\n",
    "            break\n",
    "\n",
    "    if a.isdigit() == True or a.islower() == True or len(a) < 10:\n",
    "        return 1\n",
    "    elif a == b:\n",
    "        return 2\n",
    "    else :\n",
    "        return 3\n",
    "\n",
    "print('※ 비밀번호는 10자리 이상, 영문 대문자를 포함하여야합니다.')\n",
    "while True:\n",
    "    passwd = input('비밀번호 : ')\n",
    "    passwd_check = input('비밀번호 확인 : ')\n",
    "\n",
    "\n",
    "    if checks(passwd, passwd_check) == 1 :\n",
    "        print('비밀번호가 잘못 되었습니다! 다시 입력해주세요')\n",
    "    elif checks(passwd, passwd_check) == 2 :\n",
    "        print('유효한 비밀번호입니다.')\n",
    "        break\n",
    "    else :\n",
    "        print('비밀번호와 비밀번호 확인이 서로 다릅니다! 다시 입력해주세요!')"
   ]
  },
  {
   "cell_type": "markdown",
   "metadata": {},
   "source": [
    "### 8."
   ]
  },
  {
   "cell_type": "code",
   "execution_count": 19,
   "metadata": {},
   "outputs": [],
   "source": [
    "numbers = [77, 36, 29, 11, 20, 6, 91, 33]"
   ]
  },
  {
   "cell_type": "code",
   "execution_count": 20,
   "metadata": {},
   "outputs": [
    {
     "name": "stdout",
     "output_type": "stream",
     "text": [
      "[77, 36, 29, 11, 20, 6, 91, 33]\n",
      "정렬된 수 : \n",
      "6 11 20 29 33 36 77 91 "
     ]
    }
   ],
   "source": [
    "sorts = lambda a: a.sort()\n",
    "print(numbers)\n",
    "sorts(numbers)\n",
    "print('정렬된 수 : ')\n",
    "for i in range(len(numbers)):\n",
    "    print(numbers[i], end = ' ')"
   ]
  }
 ],
 "metadata": {
  "kernelspec": {
   "display_name": "Python 3",
   "language": "python",
   "name": "python3"
  },
  "language_info": {
   "codemirror_mode": {
    "name": "ipython",
    "version": 3
   },
   "file_extension": ".py",
   "mimetype": "text/x-python",
   "name": "python",
   "nbconvert_exporter": "python",
   "pygments_lexer": "ipython3",
   "version": "3.7.6"
  }
 },
 "nbformat": 4,
 "nbformat_minor": 4
}
