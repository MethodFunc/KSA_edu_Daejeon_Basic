{
 "cells": [
  {
   "cell_type": "code",
   "execution_count": 1,
   "metadata": {},
   "outputs": [
    {
     "name": "stdout",
     "output_type": "stream",
     "text": [
      "     01  02  03  04  05  06  07  08  09 \n",
      " 01   X   X   X   X   X   X   X   X   X \n",
      " 02   X   ●   X   ●   ○   ●   ○   ●   X \n",
      " 03   X   ○   ●   ●   ●   ○   ○   X   X \n",
      " 04   X   X   ○   ○   ○   ●   X   ○   X \n",
      " 05   X   X   X   X   X   ●   X   ○   ● \n",
      " 06   X   X   X   ○   X   ●   ○   ●   X \n",
      " 07   X   X   X   ○   ●   X   ●   ●   X \n",
      " 08   X   X   X   ●   ●   X   X   X   X \n",
      " 09   X   X   X   X   ○   ○   ○   X   X \n"
     ]
    }
   ],
   "source": [
    "stone = [[0, 0, 0, 0, 0, 0, 0, 0, 0 ],\n",
    "         [0, 1, 0, 1, 2, 1, 2, 1, 0 ],\n",
    "         [0, 2, 1, 1, 1, 2, 2, 0, 0 ],\n",
    "         [0, 0, 2, 2, 2, 1, 0, 2, 0 ],\n",
    "         [0, 0, 0, 0, 0, 1, 0, 2, 1 ],\n",
    "         [0, 0, 0, 2, 0, 1, 2, 1, 0 ],\n",
    "         [0, 0, 0, 2, 1, 0, 1, 1, 0 ],\n",
    "         [0, 0, 0, 1, 1, 0, 0, 0, 0 ],\n",
    "         [0, 0, 0, 0, 2, 2, 2, 0, 0 ]]\n",
    "\n",
    "\n",
    "list = ['01', '02','03','04','05','06','07','08','09']\n",
    "list2 = [' ', '01', '02','03','04','05','06','07','08','09']\n",
    "\n",
    "stone.insert(0, list)\n",
    "\n",
    "for i in range(len(stone)):\n",
    "    stone[i].insert(0, list2[i])\n",
    "\n",
    "for i in range(len(stone)):\n",
    "    for j in range(len(stone)):\n",
    "        if stone[i][j] == 1:\n",
    "            print('%3s'%\"●\", end=' ')\n",
    "        elif stone[i][j] == 2:\n",
    "            print('%3s'%\"○\", end=' ')\n",
    "        elif stone[i][j] == 0:\n",
    "            print('%3s'%\"X\", end=' ')\n",
    "        else:\n",
    "            print('%3s'%stone[i][j], end=' ')\n",
    "    print()\n"
   ]
  }
 ],
 "metadata": {
  "kernelspec": {
   "display_name": "Python 3",
   "language": "python",
   "name": "python3"
  },
  "language_info": {
   "codemirror_mode": {
    "name": "ipython",
    "version": 3
   },
   "file_extension": ".py",
   "mimetype": "text/x-python",
   "name": "python",
   "nbconvert_exporter": "python",
   "pygments_lexer": "ipython3",
   "version": "3.7.6"
  }
 },
 "nbformat": 4,
 "nbformat_minor": 4
}
