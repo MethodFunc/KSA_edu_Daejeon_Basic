{
 "cells": [
  {
   "cell_type": "markdown",
   "metadata": {},
   "source": [
    "# 8장 연습문제"
   ]
  },
  {
   "cell_type": "markdown",
   "metadata": {},
   "source": [
    "### 1"
   ]
  },
  {
   "cell_type": "code",
   "execution_count": 1,
   "metadata": {},
   "outputs": [
    {
     "name": "stdout",
     "output_type": "stream",
     "text": [
      "15\n"
     ]
    }
   ],
   "source": [
    "from lib import inc_10\n",
    "print(inc_10(5))"
   ]
  },
  {
   "cell_type": "markdown",
   "metadata": {},
   "source": [
    "### 2."
   ]
  },
  {
   "cell_type": "code",
   "execution_count": 2,
   "metadata": {},
   "outputs": [
    {
     "name": "stdout",
     "output_type": "stream",
     "text": [
      "138\n"
     ]
    }
   ],
   "source": [
    "import lib\n",
    "\n",
    "a = lib.mul_20(3)\n",
    "b = a + lib.fact(1, 3)\n",
    "c = a + b + lib.inc_10(2)\n",
    "\n",
    "print(c)"
   ]
  },
  {
   "cell_type": "code",
   "execution_count": 3,
   "metadata": {},
   "outputs": [
    {
     "name": "stdout",
     "output_type": "stream",
     "text": [
      "35\n"
     ]
    }
   ],
   "source": [
    "import lib as lb\n",
    "\n",
    "a = 1\n",
    "b = 2\n",
    "c = 3\n",
    "\n",
    "d = lb.fact(a, b)\n",
    "d += lb.inc_10(c)\n",
    "e = d + lb.mul_20(a)\n",
    "\n",
    "print(e)"
   ]
  },
  {
   "cell_type": "markdown",
   "metadata": {},
   "source": [
    "### 4. 다"
   ]
  },
  {
   "cell_type": "markdown",
   "metadata": {},
   "source": [
    "### 5. 라"
   ]
  },
  {
   "cell_type": "markdown",
   "metadata": {},
   "source": [
    "### 6."
   ]
  },
  {
   "cell_type": "code",
   "execution_count": 4,
   "metadata": {
    "scrolled": true
   },
   "outputs": [
    {
     "name": "stdout",
     "output_type": "stream",
     "text": [
      "나 : 6\n",
      "당신 : 3\n",
      "나의 승리\n",
      "계속할려면 y를 입력하세요!y\n",
      "나 : 4\n",
      "당신 : 6\n",
      "당신의 승리\n",
      "계속할려면 y를 입력하세요!y\n",
      "나 : 2\n",
      "당신 : 2\n",
      "무승부!\n",
      "계속할려면 y를 입력하세요!\n"
     ]
    }
   ],
   "source": [
    "import random as rm\n",
    "\n",
    "again = 'y'\n",
    "\n",
    "while again == 'y':\n",
    "    \n",
    "    me = rm.randint(1, 6)\n",
    "    you = rm.randint(1, 6)\n",
    "    \n",
    "    print('나 : %s'%me)\n",
    "    print('당신 : %s'%you)\n",
    "    \n",
    "    if me == you:\n",
    "        print('무승부!')\n",
    "    elif me < you:\n",
    "        print('당신의 승리')\n",
    "    else:\n",
    "        print(\"나의 승리\")\n",
    "    \n",
    "    again = input('계속할려면 y를 입력하세요!')"
   ]
  },
  {
   "cell_type": "markdown",
   "metadata": {},
   "source": [
    "# 9장 연습문제"
   ]
  },
  {
   "cell_type": "markdown",
   "metadata": {},
   "source": [
    "### 1."
   ]
  },
  {
   "cell_type": "code",
   "execution_count": 5,
   "metadata": {},
   "outputs": [
    {
     "name": "stdout",
     "output_type": "stream",
     "text": [
      "abcde\n"
     ]
    }
   ],
   "source": [
    "class TestClass1:\n",
    "    a = 'abcde'\n",
    "        \n",
    "test = TestClass1\n",
    "print(test.a)"
   ]
  },
  {
   "cell_type": "markdown",
   "metadata": {},
   "source": [
    "### 2."
   ]
  },
  {
   "cell_type": "code",
   "execution_count": 6,
   "metadata": {},
   "outputs": [
    {
     "name": "stdout",
     "output_type": "stream",
     "text": [
      "이름 : 홍길동\n",
      "이메일 : test@korea.com\n"
     ]
    }
   ],
   "source": [
    "class TestClass2:\n",
    "    def __init__(self, name, email):\n",
    "        self.name = name\n",
    "        self.email = email\n",
    "        \n",
    "        print('이름 : %s'%self.name)\n",
    "        print('이메일 : %s'%self.email)\n",
    "\n",
    "Human1 = TestClass2('홍길동', 'test@korea.com')"
   ]
  },
  {
   "cell_type": "markdown",
   "metadata": {},
   "source": [
    "### 3."
   ]
  },
  {
   "cell_type": "code",
   "execution_count": 7,
   "metadata": {},
   "outputs": [],
   "source": [
    "class TestClass2:\n",
    "    def __init__(self, name, email):\n",
    "        self.name = name\n",
    "        self.email = email\n",
    "        \n",
    "    def PrintInfo(self):\n",
    "        print('이름 : %s'%self.name)\n",
    "        print('이메일 : %s'%self.email)\n"
   ]
  },
  {
   "cell_type": "code",
   "execution_count": 8,
   "metadata": {},
   "outputs": [
    {
     "name": "stdout",
     "output_type": "stream",
     "text": [
      "이름 : 홍길동\n",
      "이메일 : test@korea.com\n"
     ]
    }
   ],
   "source": [
    "Human1 = TestClass2('홍길동', 'test@korea.com')\n",
    "Human1.PrintInfo()"
   ]
  },
  {
   "cell_type": "markdown",
   "metadata": {},
   "source": [
    "### 4."
   ]
  },
  {
   "cell_type": "code",
   "execution_count": 9,
   "metadata": {},
   "outputs": [],
   "source": [
    "class Member:\n",
    "    def __init__(self, name, phone, address):\n",
    "        self.name = name\n",
    "        self.phone = phone\n",
    "        self.address = address\n",
    "        \n",
    "    def PrintInfo(self):\n",
    "        print('이름 : %s'%self.name)\n",
    "        print('전화번호 : %s'%self.phone)\n",
    "        print('주소 : %s'%self.address) "
   ]
  },
  {
   "cell_type": "code",
   "execution_count": 10,
   "metadata": {},
   "outputs": [
    {
     "name": "stdout",
     "output_type": "stream",
     "text": [
      "이름 : 홍길동\n",
      "전화번호 : 010-1234-5678\n",
      "주소 : 성남시\n"
     ]
    }
   ],
   "source": [
    "Human2 = Member('홍길동','010-1234-5678', '성남시')\n",
    "Human2.PrintInfo()"
   ]
  },
  {
   "cell_type": "markdown",
   "metadata": {},
   "source": [
    "### 5."
   ]
  },
  {
   "cell_type": "code",
   "execution_count": 11,
   "metadata": {},
   "outputs": [],
   "source": [
    "class Member:\n",
    "    def __init__(self, **kwargs):\n",
    "        self.name = kwargs['name']\n",
    "        self.phone = kwargs['phone']\n",
    "        self.address = kwargs['address']\n",
    "        \n",
    "    def PrintInfo(self):\n",
    "        print('이름 : %s'%self.name)\n",
    "        print('전화번호 : %s'%self.phone)\n",
    "        print('주소 : %s'%self.address) "
   ]
  },
  {
   "cell_type": "code",
   "execution_count": 12,
   "metadata": {},
   "outputs": [],
   "source": [
    "dict = {'name':'홍길동','phone':'010-1234-5678', 'address':'성남시'}"
   ]
  },
  {
   "cell_type": "code",
   "execution_count": 13,
   "metadata": {},
   "outputs": [
    {
     "name": "stdout",
     "output_type": "stream",
     "text": [
      "이름 : 홍길동\n",
      "전화번호 : 010-1234-5678\n",
      "주소 : 성남시\n"
     ]
    }
   ],
   "source": [
    "Human3 = Member(**dict)\n",
    "Human3.PrintInfo()"
   ]
  },
  {
   "cell_type": "markdown",
   "metadata": {},
   "source": [
    "### 6."
   ]
  },
  {
   "cell_type": "code",
   "execution_count": 19,
   "metadata": {},
   "outputs": [
    {
     "name": "stdout",
     "output_type": "stream",
     "text": [
      "저자:홍길동\n",
      "출판사:지구출판사\n",
      "유형:PDF\n"
     ]
    }
   ],
   "source": [
    "class Book:\n",
    "    def __init__(self, author, publish):\n",
    "        self.author = author\n",
    "        self.publish = publish\n",
    "    \n",
    "    def getAuthourInfo(self):\n",
    "        string = '저자:%s'%self.author\n",
    "        return string\n",
    "    \n",
    "    def getPublishInfo(self):\n",
    "        string = '출판사:%s'%self.publish\n",
    "        return string\n",
    "    \n",
    "class Ebook(Book):\n",
    "    def __init__(self, author, publish, type):\n",
    "        #__init__(author, publish)\n",
    "        super().__init__(author, publish)\n",
    "        self.type = type\n",
    "    \n",
    "    def getTypeInfo(self):\n",
    "        string = '유형:%s'%self.type\n",
    "        return string\n",
    "    \n",
    "book1 = Ebook('홍길동', '지구출판사', 'PDF')\n",
    "\n",
    "print(book1.getAuthourInfo())\n",
    "print(book1.getPublishInfo())\n",
    "print(book1.getTypeInfo())\n",
    "\n",
    "# 안되는 이유\n",
    "# 각 클래스 안에 메소드 별 self 추가를 안하여 오류가 걸림\n",
    "# Ebook클래스의 __init__에서 부모클래스 Book에 접근하기위한\n",
    "# Super()를 안 써서 오류 걸려서 추가함"
   ]
  }
 ],
 "metadata": {
  "kernelspec": {
   "display_name": "Python 3",
   "language": "python",
   "name": "python3"
  },
  "language_info": {
   "codemirror_mode": {
    "name": "ipython",
    "version": 3
   },
   "file_extension": ".py",
   "mimetype": "text/x-python",
   "name": "python",
   "nbconvert_exporter": "python",
   "pygments_lexer": "ipython3",
   "version": "3.7.6"
  }
 },
 "nbformat": 4,
 "nbformat_minor": 4
}
