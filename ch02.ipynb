{
 "cells": [
  {
   "cell_type": "markdown",
   "metadata": {},
   "source": [
    "# Chapter2 Basic"
   ]
  },
  {
   "cell_type": "markdown",
   "metadata": {},
   "source": [
    "## Variable\n"
   ]
  },
  {
   "cell_type": "code",
   "execution_count": 1,
   "metadata": {},
   "outputs": [
    {
     "name": "stdout",
     "output_type": "stream",
     "text": [
      "50\n"
     ]
    }
   ],
   "source": [
    "# example 2-1\n",
    "a = 20\n",
    "b = 30\n",
    "c = a+b\n",
    "print(c)"
   ]
  },
  {
   "cell_type": "code",
   "execution_count": 2,
   "metadata": {},
   "outputs": [
    {
     "name": "stdout",
     "output_type": "stream",
     "text": [
      "20 Mac 30 70 Hong 1997 20.3\n"
     ]
    }
   ],
   "source": [
    "# example 2-2\n",
    "x = 20\n",
    "computer = 'Mac'\n",
    "age = 30\n",
    "my_score = 70\n",
    "_name = 'Hong'\n",
    "my_birth_year = 1997\n",
    "data2 = 20.3\n",
    "\n",
    "print(x, computer, age, my_score, _name, my_birth_year, data2)"
   ]
  },
  {
   "cell_type": "code",
   "execution_count": 3,
   "metadata": {},
   "outputs": [
    {
     "name": "stdout",
     "output_type": "stream",
     "text": [
      "30\n",
      "<class 'int'>\n"
     ]
    }
   ],
   "source": [
    "# example 2-4\n",
    "x = 30\n",
    "print(x)\n",
    "print(type(x))"
   ]
  },
  {
   "cell_type": "code",
   "execution_count": 4,
   "metadata": {},
   "outputs": [
    {
     "name": "stdout",
     "output_type": "stream",
     "text": [
      "3.3764 3\n",
      "<class 'float'> <class 'int'>\n"
     ]
    }
   ],
   "source": [
    "# example 2-5\n",
    "x = 3.3764\n",
    "y = int(6/2)\n",
    "print(x, y)\n",
    "print(type(x), type(y))"
   ]
  },
  {
   "cell_type": "code",
   "execution_count": 5,
   "metadata": {},
   "outputs": [
    {
     "name": "stdout",
     "output_type": "stream",
     "text": [
      "x\n",
      "I am ok\n",
      "hello\n",
      "<class 'str'>\n"
     ]
    }
   ],
   "source": [
    "# example 2-6\n",
    "a = 'x'\n",
    "b = 'I am ok'\n",
    "c = 'hello'\n",
    "\n",
    "print('{0}\\n{1}\\n{2}'.format(a, b, c))\n",
    "print(type(c))"
   ]
  },
  {
   "cell_type": "code",
   "execution_count": 6,
   "metadata": {},
   "outputs": [
    {
     "name": "stdout",
     "output_type": "stream",
     "text": [
      "I am happy!\n",
      "I\n",
      "I a\n",
      "happy!\n",
      "!\n",
      "py!\n",
      "pp\n"
     ]
    }
   ],
   "source": [
    "# example 2-8\n",
    "x = 'I am happy!'\n",
    "\n",
    "print(x)\n",
    "print(x[0])\n",
    "print(x[0:3])\n",
    "print(x[5:])\n",
    "print(x[-1])\n",
    "print(x[-3:])\n",
    "print(x[-4:-2])"
   ]
  },
  {
   "cell_type": "code",
   "execution_count": 7,
   "metadata": {},
   "outputs": [
    {
     "name": "stdout",
     "output_type": "stream",
     "text": [
      "True\n",
      "False\n",
      "False\n",
      "<class 'bool'>\n"
     ]
    }
   ],
   "source": [
    "# example 2-9\n",
    "a = True\n",
    "b = False\n",
    "print(a)\n",
    "print(b)\n",
    "\n",
    "c = 10 > 20\n",
    "print(c)\n",
    "\n",
    "print(type(c))"
   ]
  },
  {
   "cell_type": "code",
   "execution_count": 8,
   "metadata": {},
   "outputs": [
    {
     "name": "stdout",
     "output_type": "stream",
     "text": [
      "Eng : 80\n"
     ]
    }
   ],
   "source": [
    "eng = 80\n",
    "result = 'Eng : ' + str(eng)\n",
    "print(result)"
   ]
  },
  {
   "cell_type": "code",
   "execution_count": 9,
   "metadata": {
    "scrolled": true
   },
   "outputs": [
    {
     "name": "stdout",
     "output_type": "stream",
     "text": [
      "2020-03-05\n"
     ]
    }
   ],
   "source": [
    "# example 2-20\n",
    "year = 2020\n",
    "month = 3\n",
    "day = 5\n",
    "a = \"%d-%02d-%02d\"% (year, month, day)\n",
    "print(a)"
   ]
  },
  {
   "cell_type": "code",
   "execution_count": 10,
   "metadata": {},
   "outputs": [
    {
     "name": "stdout",
     "output_type": "stream",
     "text": [
      "height : 172.50\n",
      "height :     172.50\n"
     ]
    }
   ],
   "source": [
    "# example 2-23\n",
    "\n",
    "height = 172.5\n",
    "a = 'height : %.2f' %height\n",
    "\n",
    "print(a)\n",
    "\n",
    "a = 'height : %10.2f' %height\n",
    "\n",
    "print(a)\n"
   ]
  },
  {
   "cell_type": "code",
   "execution_count": 11,
   "metadata": {},
   "outputs": [
    {
     "data": {
      "text/plain": [
       "1"
      ]
     },
     "execution_count": 11,
     "metadata": {},
     "output_type": "execute_result"
    }
   ],
   "source": [
    "# 문자열 메소드\n",
    "x = 'I am happy!'\n",
    "x.count('am')"
   ]
  },
  {
   "cell_type": "code",
   "execution_count": 12,
   "metadata": {},
   "outputs": [
    {
     "data": {
      "text/plain": [
       "3"
      ]
     },
     "execution_count": 12,
     "metadata": {},
     "output_type": "execute_result"
    }
   ],
   "source": [
    "x.find('m')"
   ]
  },
  {
   "cell_type": "code",
   "execution_count": 13,
   "metadata": {},
   "outputs": [
    {
     "data": {
      "text/plain": [
       "'I AM HAPPY!'"
      ]
     },
     "execution_count": 13,
     "metadata": {},
     "output_type": "execute_result"
    }
   ],
   "source": [
    "x.upper()"
   ]
  },
  {
   "cell_type": "code",
   "execution_count": 14,
   "metadata": {},
   "outputs": [
    {
     "data": {
      "text/plain": [
       "'i am happy!'"
      ]
     },
     "execution_count": 14,
     "metadata": {},
     "output_type": "execute_result"
    }
   ],
   "source": [
    "x.lower()"
   ]
  },
  {
   "cell_type": "code",
   "execution_count": 15,
   "metadata": {},
   "outputs": [
    {
     "data": {
      "text/plain": [
       "'I was happy!'"
      ]
     },
     "execution_count": 15,
     "metadata": {},
     "output_type": "execute_result"
    }
   ],
   "source": [
    "x.replace('am', 'was')"
   ]
  },
  {
   "cell_type": "code",
   "execution_count": 17,
   "metadata": {},
   "outputs": [
    {
     "data": {
      "text/plain": [
       "['I', 'am', 'happy!']"
      ]
     },
     "execution_count": 17,
     "metadata": {},
     "output_type": "execute_result"
    }
   ],
   "source": [
    "x.split(' ')"
   ]
  },
  {
   "cell_type": "code",
   "execution_count": 18,
   "metadata": {},
   "outputs": [
    {
     "data": {
      "text/plain": [
       "False"
      ]
     },
     "execution_count": 18,
     "metadata": {},
     "output_type": "execute_result"
    }
   ],
   "source": [
    "x.isspace()"
   ]
  },
  {
   "cell_type": "code",
   "execution_count": 23,
   "metadata": {},
   "outputs": [
    {
     "name": "stdout",
     "output_type": "stream",
     "text": [
      "80 87\n",
      "167 83.50\n"
     ]
    }
   ],
   "source": [
    "# examnple 2-27\n",
    "score1 = 80\n",
    "score2 = 87\n",
    "\n",
    "sum = score1 + score2\n",
    "avg = sum /2\n",
    "print(\"%d %d\"%(score1, score2))\n",
    "print(\"%d %.2f\"%(sum, avg))"
   ]
  },
  {
   "cell_type": "code",
   "execution_count": 24,
   "metadata": {},
   "outputs": [
    {
     "name": "stdout",
     "output_type": "stream",
     "text": [
      "today\n",
      "today 202/5/29"
     ]
    }
   ],
   "source": [
    "# sep, end\n",
    "print('today')\n",
    "year = 2020\n",
    "month = 5\n",
    "day = 29\n",
    "print('today', end=' ')\n",
    "print(year,month,day, sep='/', end='')"
   ]
  },
  {
   "cell_type": "code",
   "execution_count": 25,
   "metadata": {},
   "outputs": [
    {
     "name": "stdout",
     "output_type": "stream",
     "text": [
      "your namehong\n",
      "Welcome hong\n"
     ]
    }
   ],
   "source": [
    "# example 2- 31\n",
    "name = input('your name')\n",
    "\n",
    "print('Welcome %s' %name)"
   ]
  },
  {
   "cell_type": "code",
   "execution_count": 28,
   "metadata": {
    "scrolled": true
   },
   "outputs": [
    {
     "name": "stdout",
     "output_type": "stream",
     "text": [
      "1st num : 5\n",
      "2nd num : 6\n",
      "11\n"
     ]
    }
   ],
   "source": [
    "a = int(input('1st num : '))\n",
    "b = int(input('2nd num : '))\n",
    "\n",
    "print(\"%d\" %(a+b))"
   ]
  },
  {
   "cell_type": "code",
   "execution_count": null,
   "metadata": {},
   "outputs": [],
   "source": []
  }
 ],
 "metadata": {
  "kernelspec": {
   "display_name": "Python 3",
   "language": "python",
   "name": "python3"
  },
  "language_info": {
   "codemirror_mode": {
    "name": "ipython",
    "version": 3
   },
   "file_extension": ".py",
   "mimetype": "text/x-python",
   "name": "python",
   "nbconvert_exporter": "python",
   "pygments_lexer": "ipython3",
   "version": "3.7.6"
  }
 },
 "nbformat": 4,
 "nbformat_minor": 4
}
