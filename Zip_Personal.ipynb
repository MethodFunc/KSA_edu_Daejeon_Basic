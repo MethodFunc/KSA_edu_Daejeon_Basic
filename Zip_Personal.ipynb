{
 "cells": [
  {
   "cell_type": "code",
   "execution_count": 91,
   "metadata": {},
   "outputs": [],
   "source": [
    "import zipfile\n",
    "import os\n",
    "import datetime"
   ]
  },
  {
   "cell_type": "code",
   "execution_count": 110,
   "metadata": {},
   "outputs": [],
   "source": [
    "root = !cd\n",
    "root = root[0].split('\\\\')\n",
    "PATH = ''\n",
    "for i in range(0, len(root)-1):\n",
    "    PATH = root[i] + '\\\\\\\\'\n",
    "\n",
    "date = datetime.date.today()\n",
    "\n",
    "with zipfile.ZipFile('{}{}.zip'.format(PATH, date), 'w') as myzip:\n",
    "    # 압축 대상 경로\n",
    "    des = '{}Workspace'.format(PATH)\n",
    "    # os 모듈로 해당 경로의 파일을 취득한다.(os.walk는 경로의 하위 폴더까지 취득한다.)\n",
    "    for folder, subfolder, files in os.walk(des):\n",
    "        # os.walk로 파일 리스트를 받아 루프를 돌린다\n",
    "        for file in files:\n",
    "            # folder와 files명은 다른 변수로 취득된다. 두 변수값으로 파일 절대 경로를 만든다.\n",
    "            full_name = os.path.join(folder, file)\n",
    "            # write은 압축 파일에 파일을 쓰는 것이다. 파라미터는 대상 파일, 저장될 경로로 지정된다.\n",
    "            # 압축 파일에 저장될 경로는 \\기준으로 상대 경로로 작성해야 한다.\n",
    "            myzip.write(full_name, os.path.relpath(full_name, des))"
   ]
  },
  {
   "cell_type": "code",
   "execution_count": null,
   "metadata": {},
   "outputs": [],
   "source": []
  }
 ],
 "metadata": {
  "kernelspec": {
   "display_name": "Python 3",
   "language": "python",
   "name": "python3"
  },
  "language_info": {
   "codemirror_mode": {
    "name": "ipython",
    "version": 3
   },
   "file_extension": ".py",
   "mimetype": "text/x-python",
   "name": "python",
   "nbconvert_exporter": "python",
   "pygments_lexer": "ipython3",
   "version": "3.7.6"
  }
 },
 "nbformat": 4,
 "nbformat_minor": 4
}
