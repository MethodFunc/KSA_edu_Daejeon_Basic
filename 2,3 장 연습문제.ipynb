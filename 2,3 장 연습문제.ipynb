{
 "cells": [
  {
   "cell_type": "markdown",
   "metadata": {},
   "source": [
    "# 2장 연습문제"
   ]
  },
  {
   "cell_type": "markdown",
   "metadata": {},
   "source": [
    "## 1. \n",
    "### 숫자 : 정수형(int)과 실수형(float)이 있음\n",
    "### 문자열 : 하나 또는 다수의 문자로 구성된 데이터형 입력 시 단 따옴표(') 나 쌍 따옴표(\")를  사용해야함"
   ]
  },
  {
   "cell_type": "markdown",
   "metadata": {},
   "source": [
    "## 2. -72"
   ]
  },
  {
   "cell_type": "code",
   "execution_count": 3,
   "metadata": {},
   "outputs": [
    {
     "output_type": "stream",
     "name": "stdout",
     "text": "반지름 : 10\n원의 둘레 : 62.80 cm\n원의 면적 : 314.00 cm^2\n"
    }
   ],
   "source": [
    "# 3.\n",
    "radius = int(input('반지름을 입력하세요 : '))\n",
    "print('반지름 : %d' %radius)\n",
    "print('원의 둘레 : %.2f cm' %(radius*2*3.14))\n",
    "print('원의 면적 : %.2f cm^2' %(radius**2*3.14))"
   ]
  },
  {
   "cell_type": "code",
   "execution_count": 4,
   "metadata": {},
   "outputs": [
    {
     "output_type": "stream",
     "name": "stdout",
     "text": "결제 금액 : -179900원\n"
    }
   ],
   "source": [
    "# 4.\n",
    "book_price = int(input('책 값을 입력하세요 : '))\n",
    "sale = int(input('할인율을 입력해주세요(%) : '))\n",
    "ship_price = int(input(\"배송료를 입력해주세요 : \"))\n",
    "total = book_price-(book_price * sale / 100) + ship_price\n",
    "\n",
    "print('결제 금액 : %d원' %total)"
   ]
  },
  {
   "cell_type": "code",
   "execution_count": 5,
   "metadata": {},
   "outputs": [
    {
     "output_type": "stream",
     "name": "stdout",
     "text": "5050님의 나이는 1세 입니다!\n"
    }
   ],
   "source": [
    "# 5.\n",
    "name = input('이름을 입력하세요 : ')\n",
    "now_year = int(input('현재 년을 입력하세요 : '))\n",
    "birth_year = int(input('탄생년을 입력해주세요 : '))\n",
    "age = now_year - birth_year + 1\n",
    "\n",
    "print(\"%s님의 나이는 %d세 입니다!\" %(name, age))"
   ]
  },
  {
   "cell_type": "code",
   "execution_count": 4,
   "metadata": {},
   "outputs": [
    {
     "name": "stdout",
     "output_type": "stream",
     "text": [
      "연을 입력하세요 : 2020\n",
      "월을 입력하세요 : 1\n",
      "일을 입력하세요 : 5\n",
      "2020-01-05\n"
     ]
    }
   ],
   "source": [
    "# 6.\n",
    "year = int(input('연을 입력하세요 : '))\n",
    "month = int(input('월을 입력하세요 : '))\n",
    "day = int(input('일을 입력하세요 : '))\n",
    "\n",
    "print('%d-%.2d-%.2d' %(year, month, day))"
   ]
  },
  {
   "cell_type": "markdown",
   "metadata": {},
   "source": [
    "# 3장 연습문제"
   ]
  },
  {
   "cell_type": "markdown",
   "metadata": {},
   "source": [
    "## 1.\n",
    "##    False, False, False\n",
    "##    True, False, False\n",
    "##    True, False, True"
   ]
  },
  {
   "cell_type": "markdown",
   "metadata": {},
   "source": [
    "## 2.\n",
    "## False True\n",
    "## True False\n",
    "## False True"
   ]
  },
  {
   "cell_type": "markdown",
   "metadata": {},
   "source": [
    "## 3. 4\n"
   ]
  },
  {
   "cell_type": "code",
   "execution_count": 2,
   "metadata": {},
   "outputs": [
    {
     "output_type": "error",
     "ename": "ValueError",
     "evalue": "invalid literal for int() with base 10: ''",
     "traceback": [
      "\u001b[1;31m---------------------------------------------------------------------------\u001b[0m",
      "\u001b[1;31mValueError\u001b[0m                                Traceback (most recent call last)",
      "\u001b[1;32m<ipython-input-2-db289c796c9a>\u001b[0m in \u001b[0;36m<module>\u001b[1;34m\u001b[0m\n\u001b[0;32m      1\u001b[0m \u001b[1;31m# 4.\u001b[0m\u001b[1;33m\u001b[0m\u001b[1;33m\u001b[0m\u001b[1;33m\u001b[0m\u001b[0m\n\u001b[1;32m----> 2\u001b[1;33m \u001b[0mkind\u001b[0m \u001b[1;33m=\u001b[0m \u001b[0mint\u001b[0m\u001b[1;33m(\u001b[0m\u001b[0minput\u001b[0m\u001b[1;33m(\u001b[0m\u001b[1;34m'단위를 입력하세요(1: 섭씨, 2: 화씨):'\u001b[0m\u001b[1;33m)\u001b[0m\u001b[1;33m)\u001b[0m\u001b[1;33m\u001b[0m\u001b[1;33m\u001b[0m\u001b[0m\n\u001b[0m\u001b[0;32m      3\u001b[0m \u001b[0mtemp\u001b[0m \u001b[1;33m=\u001b[0m \u001b[0mint\u001b[0m\u001b[1;33m(\u001b[0m\u001b[0minput\u001b[0m\u001b[1;33m(\u001b[0m\u001b[1;34m'온도를 입력해주세요 : '\u001b[0m\u001b[1;33m)\u001b[0m\u001b[1;33m)\u001b[0m\u001b[1;33m\u001b[0m\u001b[1;33m\u001b[0m\u001b[0m\n\u001b[0;32m      4\u001b[0m \u001b[1;33m\u001b[0m\u001b[0m\n\u001b[0;32m      5\u001b[0m \u001b[1;32mif\u001b[0m \u001b[0mtemp\u001b[0m \u001b[1;33m>=\u001b[0m \u001b[1;36m100\u001b[0m\u001b[1;33m:\u001b[0m\u001b[1;33m\u001b[0m\u001b[1;33m\u001b[0m\u001b[0m\n",
      "\u001b[1;31mValueError\u001b[0m: invalid literal for int() with base 10: ''"
     ]
    }
   ],
   "source": [
    "# 4.\n",
    "kind = int(input('단위를 입력하세요(1: 섭씨, 2: 화씨):'))\n",
    "temp = int(input('온도를 입력해주세요 : '))\n",
    "\n",
    "if temp >= 100:\n",
    "    status = '기체'\n",
    "elif temp <= 0:\n",
    "    status = '고체'\n",
    "else:\n",
    "    status = '액체'\n",
    "    \n",
    "if kind == 1:\n",
    "    fah = temp * 1.8 + 32\n",
    "    print('물의 화씨 온도 : %.2f, 상태 : %s' %(fah,status))\n",
    "    \n",
    "if kind == 2:\n",
    "    centigarde = (temp - 32) * 5 / 9\n",
    "    print('물의 섭씨 온도 : %.2f, 상태 : %s' %(centigarde,status))\n",
    "\n"
   ]
  },
  {
   "cell_type": "code",
   "execution_count": 4,
   "metadata": {},
   "outputs": [
    {
     "name": "stdout",
     "output_type": "stream",
     "text": [
      "아이디를 입력하세요 : rubato\n",
      "회원 레벨을 입력해주세요 : 3\n",
      "일부 콘텐츠 이용가능\n"
     ]
    }
   ],
   "source": [
    "# 5.\n",
    "ids = input('아이디를 입력하세요 : ')\n",
    "if ids == 'admin':\n",
    "    print('관리자 계정입니다.')\n",
    "else:\n",
    "    level = int(input('회원 레벨을 입력해주세요 : '))\n",
    "\n",
    "    if level >= 2 or level <= 7:\n",
    "        print(\"일부 콘텐츠 이용가능\")\n",
    "    elif level < 2 or level > 7:\n",
    "        print(\"콘텐츠 이용 불가\")\n",
    "        \n"
   ]
  },
  {
   "cell_type": "code",
   "execution_count": 7,
   "metadata": {},
   "outputs": [
    {
     "name": "stdout",
     "output_type": "stream",
     "text": [
      "나이를 입력해주세요 : 6\n",
      "입장료는 1000원 입니다.\n"
     ]
    }
   ],
   "source": [
    "# 6.\n",
    "age = int(input('나이를 입력해주세요 : '))\n",
    "price = 2000\n",
    "if age <= 10:\n",
    "    price = 1000\n",
    "elif age >= 65:\n",
    "    price = 0\n",
    "print('입장료는 %d원 입니다.' %price)\n"
   ]
  },
  {
   "cell_type": "code",
   "execution_count": 8,
   "metadata": {},
   "outputs": [
    {
     "name": "stdout",
     "output_type": "stream",
     "text": [
      "영어시험 점수를 입력하세요 : 85\n",
      "수학시험 점수를 입력하세요 : 75\n",
      "재시험 기회제공\n"
     ]
    }
   ],
   "source": [
    "# 7.\n",
    "eng = int(input('영어시험 점수를 입력하세요 : '))\n",
    "math = int(input('수학시험 점수를 입력하세요 : '))\n",
    "\n",
    "if eng >=80 and math >=80:\n",
    "    print(\"합격\")\n",
    "elif eng < 80 and math < 80:\n",
    "    print(\"불합격\")\n",
    "elif eng >= 80 or math >=80:\n",
    "    print(\"재시험 기회제공\")"
   ]
  }
 ],
 "metadata": {
  "kernelspec": {
   "display_name": "Python 3",
   "language": "python",
   "name": "python3"
  },
  "language_info": {
   "codemirror_mode": {
    "name": "ipython",
    "version": 3
   },
   "file_extension": ".py",
   "mimetype": "text/x-python",
   "name": "python",
   "nbconvert_exporter": "python",
   "pygments_lexer": "ipython3",
   "version": "3.7.6-final"
  }
 },
 "nbformat": 4,
 "nbformat_minor": 4
}