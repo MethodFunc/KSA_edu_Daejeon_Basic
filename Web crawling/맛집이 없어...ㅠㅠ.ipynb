{
 "cells": [
  {
   "cell_type": "code",
   "execution_count": 2,
   "metadata": {},
   "outputs": [],
   "source": [
    "from bs4 import BeautifulSoup\n",
    "from urllib.request import urlopen\n",
    "from urllib.parse import urljoin\n",
    "import pandas as pd\n",
    "import re\n",
    "from tqdm import tqdm_notebook\n",
    "import time"
   ]
  },
  {
   "cell_type": "code",
   "execution_count": 3,
   "metadata": {},
   "outputs": [],
   "source": [
    "def url_Open(url_base, url_sub):\n",
    "    url = url_base + url_sub\n",
    "    url_open = urlopen(url)\n",
    "    \n",
    "    return url_open"
   ]
  },
  {
   "cell_type": "code",
   "execution_count": 4,
   "metadata": {},
   "outputs": [],
   "source": [
    "def list_append():\n",
    "    store_list = soup.find_all(class_='blink')\n",
    "    favor = soup.find_all(class_='favor-review')\n",
    "    \n",
    "    for lists in store_list:\n",
    "        store.append(lists.find(class_='btxt').get_text()[3:])\n",
    "        kind.append(lists.find(class_='stxt').get_text())\n",
    "        url_add.append(urljoin(url_base, lists['href']))\n",
    "    \n",
    "    for lists2 in favor:\n",
    "        point.append(lists2.find(class_='point').get_text())"
   ]
  },
  {
   "cell_type": "code",
   "execution_count": 5,
   "metadata": {},
   "outputs": [],
   "source": [
    "url_base = 'https://www.diningcode.com'\n",
    "url_sub = '/list.php?query=%EC%86%8C%EB%8B%B4%EB%8F%99'"
   ]
  },
  {
   "cell_type": "code",
   "execution_count": 6,
   "metadata": {},
   "outputs": [],
   "source": [
    "soup = BeautifulSoup(url_Open(url_base, url_sub), 'html.parser')"
   ]
  },
  {
   "cell_type": "code",
   "execution_count": 7,
   "metadata": {},
   "outputs": [],
   "source": [
    "store = []\n",
    "kind = []\n",
    "point = []\n",
    "url_add = []"
   ]
  },
  {
   "cell_type": "code",
   "execution_count": 8,
   "metadata": {},
   "outputs": [],
   "source": [
    "list_append()"
   ]
  },
  {
   "cell_type": "code",
   "execution_count": 9,
   "metadata": {},
   "outputs": [],
   "source": [
    "url_sub = '/list.php?query=%EC%86%8C%EB%8B%B4%EB%8F%99&page=2'"
   ]
  },
  {
   "cell_type": "code",
   "execution_count": 10,
   "metadata": {},
   "outputs": [],
   "source": [
    "soup = BeautifulSoup(url_Open(url_base, url_sub), 'html.parser')"
   ]
  },
  {
   "cell_type": "code",
   "execution_count": 11,
   "metadata": {},
   "outputs": [],
   "source": [
    "list_append()"
   ]
  },
  {
   "cell_type": "code",
   "execution_count": 12,
   "metadata": {},
   "outputs": [],
   "source": [
    "df = pd.DataFrame({'상점' : store, '종류':kind,'평점':point, \"URL\":url_add})"
   ]
  },
  {
   "cell_type": "code",
   "execution_count": 13,
   "metadata": {},
   "outputs": [
    {
     "data": {
      "text/html": [
       "<div>\n",
       "<style scoped>\n",
       "    .dataframe tbody tr th:only-of-type {\n",
       "        vertical-align: middle;\n",
       "    }\n",
       "\n",
       "    .dataframe tbody tr th {\n",
       "        vertical-align: top;\n",
       "    }\n",
       "\n",
       "    .dataframe thead th {\n",
       "        text-align: right;\n",
       "    }\n",
       "</style>\n",
       "<table border=\"1\" class=\"dataframe\">\n",
       "  <thead>\n",
       "    <tr style=\"text-align: right;\">\n",
       "      <th></th>\n",
       "      <th>상점</th>\n",
       "      <th>종류</th>\n",
       "      <th>평점</th>\n",
       "      <th>URL</th>\n",
       "    </tr>\n",
       "  </thead>\n",
       "  <tbody>\n",
       "    <tr>\n",
       "      <th>0</th>\n",
       "      <td>예산국수 소담점</td>\n",
       "      <td></td>\n",
       "      <td>20점</td>\n",
       "      <td>https://www.diningcode.com/profile.php?rid=fFt...</td>\n",
       "    </tr>\n",
       "    <tr>\n",
       "      <th>1</th>\n",
       "      <td>해적선</td>\n",
       "      <td>생선회</td>\n",
       "      <td>13점</td>\n",
       "      <td>https://www.diningcode.com/profile.php?rid=x48...</td>\n",
       "    </tr>\n",
       "    <tr>\n",
       "      <th>2</th>\n",
       "      <td>피자마루</td>\n",
       "      <td>피자</td>\n",
       "      <td>13점</td>\n",
       "      <td>https://www.diningcode.com/profile.php?rid=1zY...</td>\n",
       "    </tr>\n",
       "    <tr>\n",
       "      <th>3</th>\n",
       "      <td>고선생고로케 소담점</td>\n",
       "      <td>고로케</td>\n",
       "      <td>12점</td>\n",
       "      <td>https://www.diningcode.com/profile.php?rid=biY...</td>\n",
       "    </tr>\n",
       "    <tr>\n",
       "      <th>4</th>\n",
       "      <td>이디야커피</td>\n",
       "      <td>커피</td>\n",
       "      <td>12점</td>\n",
       "      <td>https://www.diningcode.com/profile.php?rid=IA0...</td>\n",
       "    </tr>\n",
       "  </tbody>\n",
       "</table>\n",
       "</div>"
      ],
      "text/plain": [
       "           상점   종류   평점                                                URL\n",
       "0    예산국수 소담점       20점  https://www.diningcode.com/profile.php?rid=fFt...\n",
       "1         해적선  생선회  13점  https://www.diningcode.com/profile.php?rid=x48...\n",
       "2        피자마루   피자  13점  https://www.diningcode.com/profile.php?rid=1zY...\n",
       "3  고선생고로케 소담점  고로케  12점  https://www.diningcode.com/profile.php?rid=biY...\n",
       "4       이디야커피   커피  12점  https://www.diningcode.com/profile.php?rid=IA0..."
      ]
     },
     "execution_count": 13,
     "metadata": {},
     "output_type": "execute_result"
    }
   ],
   "source": [
    "df.head()"
   ]
  },
  {
   "cell_type": "code",
   "execution_count": 12,
   "metadata": {},
   "outputs": [
    {
     "name": "stderr",
     "output_type": "stream",
     "text": [
      "C:\\ProgramData\\Anaconda3\\lib\\site-packages\\ipykernel_launcher.py:3: TqdmDeprecationWarning: This function will be removed in tqdm==5.0.0\n",
      "Please use `tqdm.notebook.tqdm` instead of `tqdm.tqdm_notebook`\n",
      "  This is separate from the ipykernel package so we can avoid doing imports until\n"
     ]
    },
    {
     "data": {
      "application/vnd.jupyter.widget-view+json": {
       "model_id": "3ba54d80f2834dfaa5f3254b0aa84d0f",
       "version_major": 2,
       "version_minor": 0
      },
      "text/plain": [
       "HBox(children=(FloatProgress(value=0.0, max=15.0), HTML(value='')))"
      ]
     },
     "metadata": {},
     "output_type": "display_data"
    },
    {
     "name": "stdout",
     "output_type": "stream",
     "text": [
      "\n"
     ]
    }
   ],
   "source": [
    "addr = []\n",
    "phone = []\n",
    "for n in tqdm_notebook(df.index):\n",
    "    html = urlopen(df['URL'][n])\n",
    "    soup_temp = BeautifulSoup(html, 'html.parser')\n",
    "    \n",
    "    addr.append(soup_temp.find(class_='locat').get_text())\n",
    "    phone.append(soup_temp.find(class_='tel').get_text())"
   ]
  },
  {
   "cell_type": "code",
   "execution_count": 13,
   "metadata": {},
   "outputs": [],
   "source": [
    "df['주소'] = addr\n",
    "df['전화번호'] = phone\n",
    "df.index += 1"
   ]
  },
  {
   "cell_type": "code",
   "execution_count": 14,
   "metadata": {},
   "outputs": [],
   "source": [
    "del df['URL']"
   ]
  },
  {
   "cell_type": "code",
   "execution_count": 15,
   "metadata": {},
   "outputs": [],
   "source": [
    "df = df[['상점','종류','주소','전화번호','평점']]"
   ]
  },
  {
   "cell_type": "code",
   "execution_count": 16,
   "metadata": {},
   "outputs": [
    {
     "data": {
      "text/html": [
       "<div>\n",
       "<style scoped>\n",
       "    .dataframe tbody tr th:only-of-type {\n",
       "        vertical-align: middle;\n",
       "    }\n",
       "\n",
       "    .dataframe tbody tr th {\n",
       "        vertical-align: top;\n",
       "    }\n",
       "\n",
       "    .dataframe thead th {\n",
       "        text-align: right;\n",
       "    }\n",
       "</style>\n",
       "<table border=\"1\" class=\"dataframe\">\n",
       "  <thead>\n",
       "    <tr style=\"text-align: right;\">\n",
       "      <th></th>\n",
       "      <th>상점</th>\n",
       "      <th>종류</th>\n",
       "      <th>주소</th>\n",
       "      <th>전화번호</th>\n",
       "      <th>평점</th>\n",
       "    </tr>\n",
       "  </thead>\n",
       "  <tbody>\n",
       "    <tr>\n",
       "      <th>1</th>\n",
       "      <td>예산국수 소담점</td>\n",
       "      <td></td>\n",
       "      <td>세종시 소담동 9-183 사이언스타운103호</td>\n",
       "      <td>044-715-5523</td>\n",
       "      <td>20점</td>\n",
       "    </tr>\n",
       "    <tr>\n",
       "      <th>2</th>\n",
       "      <td>해적선</td>\n",
       "      <td>생선회</td>\n",
       "      <td>세종특별자치시 소담동 332-2 로이어즈타워107호</td>\n",
       "      <td>044-868-7385</td>\n",
       "      <td>13점</td>\n",
       "    </tr>\n",
       "    <tr>\n",
       "      <th>3</th>\n",
       "      <td>피자마루</td>\n",
       "      <td>피자</td>\n",
       "      <td>세종특별자치시 소담동 619-8</td>\n",
       "      <td>044-866-1087</td>\n",
       "      <td>13점</td>\n",
       "    </tr>\n",
       "    <tr>\n",
       "      <th>4</th>\n",
       "      <td>고선생고로케 소담점</td>\n",
       "      <td>고로케</td>\n",
       "      <td>세종특별자치시 소담동 333-10</td>\n",
       "      <td>044-863-3406</td>\n",
       "      <td>12점</td>\n",
       "    </tr>\n",
       "    <tr>\n",
       "      <th>5</th>\n",
       "      <td>이디야커피</td>\n",
       "      <td>커피</td>\n",
       "      <td>세종특별자치시 소담동 37-8</td>\n",
       "      <td>044-867-9779</td>\n",
       "      <td>12점</td>\n",
       "    </tr>\n",
       "    <tr>\n",
       "      <th>6</th>\n",
       "      <td>김밥천국</td>\n",
       "      <td>김밥</td>\n",
       "      <td>세종특별자치시 소담동 333-10</td>\n",
       "      <td>044-863-7369</td>\n",
       "      <td>12점</td>\n",
       "    </tr>\n",
       "    <tr>\n",
       "      <th>7</th>\n",
       "      <td>고봉민김밥인</td>\n",
       "      <td>김밥</td>\n",
       "      <td>세종특별자치시 소담동 37-8</td>\n",
       "      <td>044-862-8456</td>\n",
       "      <td>12점</td>\n",
       "    </tr>\n",
       "    <tr>\n",
       "      <th>8</th>\n",
       "      <td>more</td>\n",
       "      <td>카페, 디저트카페</td>\n",
       "      <td>세종특별자치시 소담동 9-177</td>\n",
       "      <td>010-9638-7856</td>\n",
       "      <td>12점</td>\n",
       "    </tr>\n",
       "    <tr>\n",
       "      <th>9</th>\n",
       "      <td>멸탑비빔국수</td>\n",
       "      <td></td>\n",
       "      <td>세종특별자치시 소담동 9-176</td>\n",
       "      <td>044-865-8411</td>\n",
       "      <td>12점</td>\n",
       "    </tr>\n",
       "    <tr>\n",
       "      <th>10</th>\n",
       "      <td>미켈란젤롱</td>\n",
       "      <td>마카롱</td>\n",
       "      <td>세종특별자치시 소담동 325</td>\n",
       "      <td>010-5904-8588</td>\n",
       "      <td>12점</td>\n",
       "    </tr>\n",
       "    <tr>\n",
       "      <th>11</th>\n",
       "      <td>배스킨라빈스</td>\n",
       "      <td></td>\n",
       "      <td>세종특별자치시 소담동 333-10</td>\n",
       "      <td>044-868-3031</td>\n",
       "      <td>12점</td>\n",
       "    </tr>\n",
       "    <tr>\n",
       "      <th>12</th>\n",
       "      <td>꼬망즈김밥</td>\n",
       "      <td></td>\n",
       "      <td>세종특별자치시 소담동 32-41</td>\n",
       "      <td>044-863-2576</td>\n",
       "      <td>12점</td>\n",
       "    </tr>\n",
       "    <tr>\n",
       "      <th>13</th>\n",
       "      <td>서리서리멸치국수  법조타운점</td>\n",
       "      <td>김밥, 국수</td>\n",
       "      <td>세종시 소담동 208</td>\n",
       "      <td>044-863-9909</td>\n",
       "      <td>12점</td>\n",
       "    </tr>\n",
       "    <tr>\n",
       "      <th>14</th>\n",
       "      <td>청담</td>\n",
       "      <td>코스요리, 중식당</td>\n",
       "      <td>세종특별자치시 소담동 308</td>\n",
       "      <td>044-863-5285</td>\n",
       "      <td>12점</td>\n",
       "    </tr>\n",
       "    <tr>\n",
       "      <th>15</th>\n",
       "      <td>황기닭곰탕</td>\n",
       "      <td>닭곰탕, 닭볶음탕</td>\n",
       "      <td>세종특별자치시 소담동 308</td>\n",
       "      <td>044-865-8599</td>\n",
       "      <td>8점</td>\n",
       "    </tr>\n",
       "  </tbody>\n",
       "</table>\n",
       "</div>"
      ],
      "text/plain": [
       "                  상점         종류                            주소           전화번호  \\\n",
       "1           예산국수 소담점                 세종시 소담동 9-183 사이언스타운103호   044-715-5523   \n",
       "2                해적선        생선회  세종특별자치시 소담동 332-2 로이어즈타워107호   044-868-7385   \n",
       "3               피자마루         피자             세종특별자치시 소담동 619-8   044-866-1087   \n",
       "4         고선생고로케 소담점        고로케            세종특별자치시 소담동 333-10   044-863-3406   \n",
       "5              이디야커피         커피              세종특별자치시 소담동 37-8   044-867-9779   \n",
       "6               김밥천국         김밥            세종특별자치시 소담동 333-10   044-863-7369   \n",
       "7             고봉민김밥인         김밥              세종특별자치시 소담동 37-8   044-862-8456   \n",
       "8               more  카페, 디저트카페             세종특별자치시 소담동 9-177  010-9638-7856   \n",
       "9             멸탑비빔국수                        세종특별자치시 소담동 9-176   044-865-8411   \n",
       "10             미켈란젤롱        마카롱               세종특별자치시 소담동 325  010-5904-8588   \n",
       "11            배스킨라빈스                       세종특별자치시 소담동 333-10   044-868-3031   \n",
       "12             꼬망즈김밥                        세종특별자치시 소담동 32-41   044-863-2576   \n",
       "13   서리서리멸치국수  법조타운점     김밥, 국수                   세종시 소담동 208   044-863-9909   \n",
       "14                청담  코스요리, 중식당               세종특별자치시 소담동 308   044-863-5285   \n",
       "15             황기닭곰탕  닭곰탕, 닭볶음탕               세종특별자치시 소담동 308   044-865-8599   \n",
       "\n",
       "     평점  \n",
       "1   20점  \n",
       "2   13점  \n",
       "3   13점  \n",
       "4   12점  \n",
       "5   12점  \n",
       "6   12점  \n",
       "7   12점  \n",
       "8   12점  \n",
       "9   12점  \n",
       "10  12점  \n",
       "11  12점  \n",
       "12  12점  \n",
       "13  12점  \n",
       "14  12점  \n",
       "15   8점  "
      ]
     },
     "execution_count": 16,
     "metadata": {},
     "output_type": "execute_result"
    }
   ],
   "source": [
    "df"
   ]
  }
 ],
 "metadata": {
  "kernelspec": {
   "display_name": "Python 3",
   "language": "python",
   "name": "python3"
  },
  "language_info": {
   "codemirror_mode": {
    "name": "ipython",
    "version": 3
   },
   "file_extension": ".py",
   "mimetype": "text/x-python",
   "name": "python",
   "nbconvert_exporter": "python",
   "pygments_lexer": "ipython3",
   "version": "3.7.6"
  }
 },
 "nbformat": 4,
 "nbformat_minor": 4
}
