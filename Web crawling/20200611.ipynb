{
 "cells": [
  {
   "cell_type": "code",
   "execution_count": 1,
   "metadata": {},
   "outputs": [],
   "source": [
    "from bs4 import BeautifulSoup as BS\n",
    "import urllib.request as req\n",
    "import urllib.parse as pa\n",
    "import pandas as pd\n",
    "from tqdm import tqdm_notebook\n",
    "import time\n",
    "import re"
   ]
  },
  {
   "cell_type": "code",
   "execution_count": 2,
   "metadata": {},
   "outputs": [],
   "source": [
    "def url_Open(url_base, page_num):\n",
    "    \n",
    "    url_sub = '/search/search_main_sub_area.asp?page='+str(page_num)+'&areacode=dj202&trec=67'\n",
    "    url = url_base + url_sub\n",
    "    url_open = req.urlopen(url)\n",
    "    \n",
    "    return url_open"
   ]
  },
  {
   "cell_type": "code",
   "execution_count": 3,
   "metadata": {},
   "outputs": [],
   "source": [
    "name = []\n",
    "score = []\n",
    "category =[]\n",
    "addr = []\n",
    "tel = []"
   ]
  },
  {
   "cell_type": "code",
   "execution_count": 4,
   "metadata": {},
   "outputs": [],
   "source": [
    "page_num = 1\n",
    "\n",
    "while True:\n",
    "    url_base = 'http://www.menupan.com/restaurant'\n",
    "    soup = BS(url_Open(url_base, page_num), 'html.parser')\n",
    "    lst_temp = soup.find_all(class_='ifo')\n",
    "    \n",
    "    if lst_temp[0].get_text().strip() == '게시물이 없습니다.':\n",
    "        break\n",
    "    \n",
    "    for li in lst_temp:\n",
    "        name.append(li.find('a').get_text())\n",
    "        score.append(li.find(class_='total').get_text())\n",
    "        temp = li.find_all('dd')\n",
    "        addr_temp = temp[1].get_text().split('|')\n",
    "        category.append(addr_temp[0])\n",
    "        addr.append(addr_temp[1].lstrip())\n",
    "        tel.append(temp[2].get_text())\n",
    "        \n",
    "    page_num += 1\n",
    "    "
   ]
  },
  {
   "cell_type": "code",
   "execution_count": 1,
   "metadata": {},
   "outputs": [
    {
     "ename": "NameError",
     "evalue": "name 'pd' is not defined",
     "output_type": "error",
     "traceback": [
      "\u001b[1;31m---------------------------------------------\u001b[0m",
      "\u001b[1;31mNameError\u001b[0m   Traceback (most recent call last)",
      "\u001b[1;32m<ipython-input-1-1e46e2ed9376>\u001b[0m in \u001b[0;36m<module>\u001b[1;34m\u001b[0m\n\u001b[1;32m----> 1\u001b[1;33m \u001b[0mdf\u001b[0m \u001b[1;33m=\u001b[0m \u001b[0mpd\u001b[0m\u001b[1;33m.\u001b[0m\u001b[0mDataFrame\u001b[0m\u001b[1;33m(\u001b[0m\u001b[0mdict\u001b[0m\u001b[1;33m(\u001b[0m\u001b[0mzip\u001b[0m\u001b[1;33m(\u001b[0m\u001b[1;33m[\u001b[0m\u001b[1;34m'Name'\u001b[0m\u001b[1;33m,\u001b[0m \u001b[1;34m'Category'\u001b[0m\u001b[1;33m,\u001b[0m \u001b[1;34m'Address'\u001b[0m\u001b[1;33m,\u001b[0m \u001b[1;34m'Tel'\u001b[0m\u001b[1;33m,\u001b[0m \u001b[1;34m'Score'\u001b[0m\u001b[1;33m]\u001b[0m\u001b[1;33m,\u001b[0m \u001b[1;33m[\u001b[0m\u001b[0mname\u001b[0m\u001b[1;33m,\u001b[0m \u001b[0mcategory\u001b[0m\u001b[1;33m,\u001b[0m \u001b[0maddr\u001b[0m\u001b[1;33m,\u001b[0m \u001b[0mtel\u001b[0m\u001b[1;33m,\u001b[0m \u001b[0mscore\u001b[0m\u001b[1;33m]\u001b[0m\u001b[1;33m)\u001b[0m\u001b[1;33m)\u001b[0m\u001b[1;33m)\u001b[0m\u001b[1;33m\u001b[0m\u001b[1;33m\u001b[0m\u001b[0m\n\u001b[0m\u001b[0;32m      2\u001b[0m \u001b[0mdf\u001b[0m\u001b[1;33m.\u001b[0m\u001b[0mindex\u001b[0m \u001b[1;33m+=\u001b[0m \u001b[1;36m1\u001b[0m\u001b[1;33m\u001b[0m\u001b[1;33m\u001b[0m\u001b[0m\n",
      "\u001b[1;31mNameError\u001b[0m: name 'pd' is not defined"
     ]
    }
   ],
   "source": [
    "df = pd.DataFrame(dict(zip(['Name', 'Category', 'Address', 'Tel', 'Score'], [name, category, addr, tel, score])))\n",
    "df.index += 1"
   ]
  },
  {
   "cell_type": "code",
   "execution_count": 6,
   "metadata": {},
   "outputs": [
    {
     "data": {
      "text/html": [
       "<div>\n",
       "<style scoped>\n",
       "    .dataframe tbody tr th:only-of-type {\n",
       "        vertical-align: middle;\n",
       "    }\n",
       "\n",
       "    .dataframe tbody tr th {\n",
       "        vertical-align: top;\n",
       "    }\n",
       "\n",
       "    .dataframe thead th {\n",
       "        text-align: right;\n",
       "    }\n",
       "</style>\n",
       "<table border=\"1\" class=\"dataframe\">\n",
       "  <thead>\n",
       "    <tr style=\"text-align: right;\">\n",
       "      <th></th>\n",
       "      <th>Name</th>\n",
       "      <th>Category</th>\n",
       "      <th>Address</th>\n",
       "      <th>Tel</th>\n",
       "      <th>Score</th>\n",
       "    </tr>\n",
       "  </thead>\n",
       "  <tbody>\n",
       "    <tr>\n",
       "      <th>1</th>\n",
       "      <td>라라랄라어은점</td>\n",
       "      <td>분식</td>\n",
       "      <td>대전 유성구 어은동 108-3</td>\n",
       "      <td>(042)862-3838</td>\n",
       "      <td>4.2</td>\n",
       "    </tr>\n",
       "    <tr>\n",
       "      <th>2</th>\n",
       "      <td>리엔차이</td>\n",
       "      <td>중식</td>\n",
       "      <td>대전 유성구 죽동 627-1</td>\n",
       "      <td>(042)824-4499</td>\n",
       "      <td>3.8</td>\n",
       "    </tr>\n",
       "    <tr>\n",
       "      <th>3</th>\n",
       "      <td>메이드바이 더초콜릿</td>\n",
       "      <td>카페/주점</td>\n",
       "      <td>대전 유성구 궁동 419-2 1층</td>\n",
       "      <td>(042)823-7779</td>\n",
       "      <td>4.0</td>\n",
       "    </tr>\n",
       "    <tr>\n",
       "      <th>4</th>\n",
       "      <td>로아커피</td>\n",
       "      <td>카페/주점</td>\n",
       "      <td>대전 유성구 죽동 614-3</td>\n",
       "      <td>(042)826-7599</td>\n",
       "      <td>4.0</td>\n",
       "    </tr>\n",
       "    <tr>\n",
       "      <th>5</th>\n",
       "      <td>호텔리베라유성 카페엘루스</td>\n",
       "      <td>카페/주점</td>\n",
       "      <td>대전 유성구 봉명동 444-5</td>\n",
       "      <td>(042)828-4034</td>\n",
       "      <td>3.3</td>\n",
       "    </tr>\n",
       "    <tr>\n",
       "      <th>...</th>\n",
       "      <td>...</td>\n",
       "      <td>...</td>\n",
       "      <td>...</td>\n",
       "      <td>...</td>\n",
       "      <td>...</td>\n",
       "    </tr>\n",
       "    <tr>\n",
       "      <th>63</th>\n",
       "      <td>아다미</td>\n",
       "      <td>일식</td>\n",
       "      <td>대전 유성구 장대동 370-13 행복빌라 1층</td>\n",
       "      <td>(042)383-6644</td>\n",
       "      <td>3.7</td>\n",
       "    </tr>\n",
       "    <tr>\n",
       "      <th>64</th>\n",
       "      <td>칼프</td>\n",
       "      <td>양식</td>\n",
       "      <td>대전 유성구 신성동 125-3</td>\n",
       "      <td>(042)862-2288</td>\n",
       "      <td>3.7</td>\n",
       "    </tr>\n",
       "    <tr>\n",
       "      <th>65</th>\n",
       "      <td>뚜레쥬르대전반석1호점</td>\n",
       "      <td>기타/세계</td>\n",
       "      <td>대전 유성구 반석동 639-2</td>\n",
       "      <td>(042)825-0443</td>\n",
       "      <td>3.6</td>\n",
       "    </tr>\n",
       "    <tr>\n",
       "      <th>66</th>\n",
       "      <td>약수산장가든</td>\n",
       "      <td>한식</td>\n",
       "      <td>대전 유성구 갑동 387-88</td>\n",
       "      <td>(042)822-5286</td>\n",
       "      <td>3.1</td>\n",
       "    </tr>\n",
       "    <tr>\n",
       "      <th>67</th>\n",
       "      <td>청주해장국</td>\n",
       "      <td>한식</td>\n",
       "      <td>대전 유성구 봉명동 538-16</td>\n",
       "      <td>(042)822-0050</td>\n",
       "      <td>3.8</td>\n",
       "    </tr>\n",
       "  </tbody>\n",
       "</table>\n",
       "<p>67 rows × 5 columns</p>\n",
       "</div>"
      ],
      "text/plain": [
       "             Name Category                    Address            Tel Score\n",
       "1         라라랄라어은점       분식           대전 유성구 어은동 108-3  (042)862-3838   4.2\n",
       "2            리엔차이       중식            대전 유성구 죽동 627-1  (042)824-4499   3.8\n",
       "3      메이드바이 더초콜릿    카페/주점         대전 유성구 궁동 419-2 1층  (042)823-7779   4.0\n",
       "4            로아커피    카페/주점            대전 유성구 죽동 614-3  (042)826-7599   4.0\n",
       "5   호텔리베라유성 카페엘루스    카페/주점           대전 유성구 봉명동 444-5  (042)828-4034   3.3\n",
       "..            ...      ...                        ...            ...   ...\n",
       "63            아다미       일식  대전 유성구 장대동 370-13 행복빌라 1층  (042)383-6644   3.7\n",
       "64             칼프       양식           대전 유성구 신성동 125-3  (042)862-2288   3.7\n",
       "65    뚜레쥬르대전반석1호점    기타/세계           대전 유성구 반석동 639-2  (042)825-0443   3.6\n",
       "66         약수산장가든       한식           대전 유성구 갑동 387-88  (042)822-5286   3.1\n",
       "67          청주해장국       한식          대전 유성구 봉명동 538-16  (042)822-0050   3.8\n",
       "\n",
       "[67 rows x 5 columns]"
      ]
     },
     "execution_count": 6,
     "metadata": {},
     "output_type": "execute_result"
    }
   ],
   "source": [
    "df"
   ]
  },
  {
   "cell_type": "code",
   "execution_count": null,
   "metadata": {},
   "outputs": [],
   "source": []
  }
 ],
 "metadata": {
  "kernelspec": {
   "display_name": "Python 3",
   "language": "python",
   "name": "python3"
  },
  "language_info": {
   "codemirror_mode": {
    "name": "ipython",
    "version": 3
   },
   "file_extension": ".py",
   "mimetype": "text/x-python",
   "name": "python",
   "nbconvert_exporter": "python",
   "pygments_lexer": "ipython3",
   "version": "3.7.6"
  }
 },
 "nbformat": 4,
 "nbformat_minor": 4
}
