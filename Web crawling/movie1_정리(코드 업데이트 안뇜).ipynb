{
 "cells": [
  {
   "cell_type": "code",
   "execution_count": 1,
   "metadata": {},
   "outputs": [],
   "source": [
    "from bs4 import BeautifulSoup as BS\n",
    "import urllib.request as req\n",
    "import urllib.parse as pa\n",
    "import pandas as pd\n",
    "import math"
   ]
  },
  {
   "cell_type": "code",
   "execution_count": 2,
   "metadata": {},
   "outputs": [],
   "source": [
    "# 평점 url 얻기 위한 url_open\n",
    "\n",
    "def url_point_Open(movie_code):\n",
    "    url = 'https://movie.naver.com/movie/bi/mi/point.nhn?code='+str(movie_code)\n",
    "    url_open = req.urlopen(url)\n",
    "    \n",
    "    return url_open"
   ]
  },
  {
   "cell_type": "code",
   "execution_count": 3,
   "metadata": {},
   "outputs": [],
   "source": [
    "def url_Open(sub_url, page_num):\n",
    "    url = 'https://movie.naver.com' + sub_url +'&page='+ str(page_num)\n",
    "    url_open = req.urlopen(url)\n",
    "    \n",
    "    return url_open"
   ]
  },
  {
   "cell_type": "code",
   "execution_count": 4,
   "metadata": {},
   "outputs": [
    {
     "data": {
      "text/plain": [
       "'/movie/bi/mi/pointWriteFormList.nhn?code=175366&type=after&isActualPointWriteExecute=false&isMileageSubscriptionAlready=false&isMileageSubscriptionReject=false'"
      ]
     },
     "execution_count": 4,
     "metadata": {},
     "output_type": "execute_result"
    }
   ],
   "source": [
    "movie_code = 175366\n",
    "soup = BS(url_point_Open(movie_code), 'html.parser')\n",
    "ifr_url = soup.find('iframe')['src']\n",
    "ifr_url"
   ]
  },
  {
   "cell_type": "code",
   "execution_count": 5,
   "metadata": {},
   "outputs": [],
   "source": [
    "soup = BS(url_Open(ifr_url, 11), 'html.parser')"
   ]
  },
  {
   "cell_type": "code",
   "execution_count": 6,
   "metadata": {},
   "outputs": [
    {
     "data": {
      "text/plain": [
       "<em>4,741</em>"
      ]
     },
     "execution_count": 6,
     "metadata": {},
     "output_type": "execute_result"
    }
   ],
   "source": [
    "count = soup.find('strong', 'total').find('em')\n",
    "count"
   ]
  },
  {
   "cell_type": "code",
   "execution_count": 7,
   "metadata": {},
   "outputs": [],
   "source": [
    "count = int(count.string.replace(',', ''))"
   ]
  },
  {
   "cell_type": "code",
   "execution_count": 8,
   "metadata": {},
   "outputs": [
    {
     "data": {
      "text/plain": [
       "4741"
      ]
     },
     "execution_count": 8,
     "metadata": {},
     "output_type": "execute_result"
    }
   ],
   "source": [
    "count"
   ]
  },
  {
   "cell_type": "code",
   "execution_count": 9,
   "metadata": {
    "scrolled": true
   },
   "outputs": [
    {
     "data": {
      "text/plain": [
       "475"
      ]
     },
     "execution_count": 9,
     "metadata": {},
     "output_type": "execute_result"
    }
   ],
   "source": [
    "loop_count = math.ceil(count/10)\n",
    "loop_count"
   ]
  },
  {
   "cell_type": "code",
   "execution_count": 10,
   "metadata": {},
   "outputs": [],
   "source": [
    "point = []\n",
    "review = []\n",
    "date = []"
   ]
  },
  {
   "cell_type": "code",
   "execution_count": 11,
   "metadata": {},
   "outputs": [
    {
     "name": "stdout",
     "output_type": "stream",
     "text": [
      "1 2 3 4 5 6 7 8 9 10 11 12 13 14 15 16 17 18 19 20 21 22 23 24 25 26 27 28 29 30 31 32 33 34 35 36 37 38 39 40 41 42 43 44 45 46 47 48 49 50 51 52 53 54 55 56 57 58 59 60 61 62 63 64 65 66 67 68 69 70 71 72 73 74 75 76 77 78 79 80 81 82 83 84 85 86 87 88 89 90 91 92 93 94 95 96 97 98 99 100 101 102 103 104 105 106 107 108 109 110 111 112 113 114 115 116 117 118 119 120 121 122 123 124 125 126 127 128 129 130 131 132 133 134 135 136 137 138 139 140 141 142 143 144 145 146 147 148 149 150 151 152 153 154 155 156 157 158 159 160 161 162 163 164 165 166 167 168 169 170 171 172 173 174 175 176 177 178 179 180 181 182 183 184 185 186 187 188 189 190 191 192 193 194 195 196 197 198 199 200 201 202 203 204 205 206 207 208 209 210 211 212 213 214 215 216 217 218 219 220 221 222 223 224 225 226 227 228 229 230 231 232 233 234 235 236 237 238 239 240 241 242 243 244 245 246 247 248 249 250 251 252 253 254 255 256 257 258 259 260 261 262 263 264 265 266 267 268 269 270 271 272 273 274 275 276 277 278 279 280 281 282 283 284 285 286 287 288 289 290 291 292 293 294 295 296 297 298 299 300 301 302 303 304 305 306 307 308 309 310 311 312 313 314 315 316 317 318 319 320 321 322 323 324 325 326 327 328 329 330 331 332 333 334 335 336 337 338 339 340 341 342 343 344 345 346 347 348 349 350 351 352 353 354 355 356 357 358 359 360 361 362 363 364 365 366 367 368 369 370 371 372 373 374 375 376 377 378 379 380 381 382 383 384 385 386 387 388 389 390 391 392 393 394 395 396 397 398 399 400 401 402 403 404 405 406 407 408 409 410 411 412 413 414 415 416 417 418 419 420 421 422 423 424 425 426 427 428 429 430 431 432 433 434 435 436 437 438 439 440 441 442 443 444 445 446 447 448 449 450 451 452 453 454 455 456 457 458 459 460 461 462 463 464 465 466 467 468 469 470 471 472 473 474 475 "
     ]
    }
   ],
   "source": [
    "page_num = 1\n",
    "\n",
    "while page_num  < loop_count+1:\n",
    "    soup = BS(url_Open(ifr_url, page_num), 'html.parser')\n",
    "    result = soup.find(class_='score_result')\n",
    "    lis = result.find_all('li')\n",
    "    print(page_num, end=' ')\n",
    "    \n",
    "    for lst in lis:\n",
    "        count_span = len(lst.find(class_='score_reple').find_all('span'))\n",
    "        count_icon = len(lst.find_all(class_='ico_viewer'))\n",
    "        count_spo = len(lst.find_all(class_='text_spo'))\n",
    "        point.append(int(lst.find(class_='star_score').find('em').get_text()))\n",
    "#         print(count_span, count_icon, count_spo)\n",
    "        \n",
    "        if count_icon ==1 and count_span == 2:\n",
    "            r = lst.find(class_='score_reple').find('p').get_text().strip().replace('\\n', '').replace('\\r','').replace('\\t', '').replace('관람객', '')\n",
    "        elif count_span == 2:\n",
    "            r = lst.find(class_='score_reple').find('p').get_text().strip()\n",
    "        elif count_icon ==1 and count_spo == 1:\n",
    "            r = lst.find_all('span')[4].get_text().strip()\n",
    "        elif count_icon == 1:\n",
    "            r = lst.find(class_='score_reple').find('p').get_text().strip().replace('\\n', '').replace('\\r', '').replace('\\t', '').replace('관람객', '')\n",
    "        elif count_spo == 1:\n",
    "            r = lst.find_all('span')[3].get_text().strip()\n",
    "        else:\n",
    "            r = lst.find_all('a')[0]['data-src']\n",
    "        review.append(r)\n",
    "        date.append(lst.find(class_='score_reple').find_all('em')[1].get_text())\n",
    "            \n",
    "    page_num += 1\n",
    "    \n",
    "    \n",
    "\n",
    "    "
   ]
  },
  {
   "cell_type": "code",
   "execution_count": 12,
   "metadata": {
    "scrolled": false
   },
   "outputs": [
    {
     "data": {
      "text/html": [
       "<div>\n",
       "<style scoped>\n",
       "    .dataframe tbody tr th:only-of-type {\n",
       "        vertical-align: middle;\n",
       "    }\n",
       "\n",
       "    .dataframe tbody tr th {\n",
       "        vertical-align: top;\n",
       "    }\n",
       "\n",
       "    .dataframe thead th {\n",
       "        text-align: right;\n",
       "    }\n",
       "</style>\n",
       "<table border=\"1\" class=\"dataframe\">\n",
       "  <thead>\n",
       "    <tr style=\"text-align: right;\">\n",
       "      <th></th>\n",
       "      <th>날짜</th>\n",
       "      <th>리뷰</th>\n",
       "      <th>평점</th>\n",
       "    </tr>\n",
       "  </thead>\n",
       "  <tbody>\n",
       "    <tr>\n",
       "      <th>0</th>\n",
       "      <td>2019.05.01 13:01</td>\n",
       "      <td>500만 찍으면 런닝맨 나온다고 했죠 500만 찍읍시다</td>\n",
       "      <td>10</td>\n",
       "    </tr>\n",
       "    <tr>\n",
       "      <th>1</th>\n",
       "      <td>2019.05.01 09:06</td>\n",
       "      <td>이광수 연기 이렇게 잘했었나..? 지루할틈 없이 두시간동안 웃다가 울다가. 볼만했다.</td>\n",
       "      <td>10</td>\n",
       "    </tr>\n",
       "    <tr>\n",
       "      <th>2</th>\n",
       "      <td>2019.05.01 09:07</td>\n",
       "      <td>신하균연기야 잘하는 건 알고 있었고 이광수의 재발견</td>\n",
       "      <td>10</td>\n",
       "    </tr>\n",
       "    <tr>\n",
       "      <th>3</th>\n",
       "      <td>2019.05.01 13:20</td>\n",
       "      <td>형아.                   뜨거워. 후후후훟 ㅎ</td>\n",
       "      <td>10</td>\n",
       "    </tr>\n",
       "    <tr>\n",
       "      <th>4</th>\n",
       "      <td>2019.05.01 13:28</td>\n",
       "      <td>신하균 보러갔다 이광수에게 놀라고 온 영화</td>\n",
       "      <td>10</td>\n",
       "    </tr>\n",
       "    <tr>\n",
       "      <th>...</th>\n",
       "      <td>...</td>\n",
       "      <td>...</td>\n",
       "      <td>...</td>\n",
       "    </tr>\n",
       "    <tr>\n",
       "      <th>4736</th>\n",
       "      <td>2019.05.06 00:57</td>\n",
       "      <td>평점 보고 봤는데 영화 보다가 나왔다. 어벤저스에서 아이언맨 죽을때 눈물날만큼 평소...</td>\n",
       "      <td>1</td>\n",
       "    </tr>\n",
       "    <tr>\n",
       "      <th>4737</th>\n",
       "      <td>2019.05.02 20:42</td>\n",
       "      <td>이 영화를 가장 좋아하는 그룹은 20대 여자입니다</td>\n",
       "      <td>1</td>\n",
       "    </tr>\n",
       "    <tr>\n",
       "      <th>4738</th>\n",
       "      <td>2020.01.24 21:25</td>\n",
       "      <td>광수 팬들의 평점 올려주기 .. 연기가 너무 발연기라 그냥 광수고 리얼리티가 없슴</td>\n",
       "      <td>1</td>\n",
       "    </tr>\n",
       "    <tr>\n",
       "      <th>4739</th>\n",
       "      <td>2020.01.24 22:18</td>\n",
       "      <td>지적장애인 연기가 얼마나 어려운지 알겠다... 이광수 연기가 너무 어색해서 몰입이 ...</td>\n",
       "      <td>4</td>\n",
       "    </tr>\n",
       "    <tr>\n",
       "      <th>4740</th>\n",
       "      <td>2020.01.24 20:16</td>\n",
       "      <td>억지감동...진짜재미없음</td>\n",
       "      <td>1</td>\n",
       "    </tr>\n",
       "  </tbody>\n",
       "</table>\n",
       "<p>4741 rows × 3 columns</p>\n",
       "</div>"
      ],
      "text/plain": [
       "                    날짜                                                 리뷰  평점\n",
       "0     2019.05.01 13:01                     500만 찍으면 런닝맨 나온다고 했죠 500만 찍읍시다  10\n",
       "1     2019.05.01 09:06    이광수 연기 이렇게 잘했었나..? 지루할틈 없이 두시간동안 웃다가 울다가. 볼만했다.  10\n",
       "2     2019.05.01 09:07                       신하균연기야 잘하는 건 알고 있었고 이광수의 재발견  10\n",
       "3     2019.05.01 13:20                  형아.                   뜨거워. 후후후훟 ㅎ  10\n",
       "4     2019.05.01 13:28                            신하균 보러갔다 이광수에게 놀라고 온 영화  10\n",
       "...                ...                                                ...  ..\n",
       "4736  2019.05.06 00:57  평점 보고 봤는데 영화 보다가 나왔다. 어벤저스에서 아이언맨 죽을때 눈물날만큼 평소...   1\n",
       "4737  2019.05.02 20:42                        이 영화를 가장 좋아하는 그룹은 20대 여자입니다   1\n",
       "4738  2020.01.24 21:25      광수 팬들의 평점 올려주기 .. 연기가 너무 발연기라 그냥 광수고 리얼리티가 없슴   1\n",
       "4739  2020.01.24 22:18  지적장애인 연기가 얼마나 어려운지 알겠다... 이광수 연기가 너무 어색해서 몰입이 ...   4\n",
       "4740  2020.01.24 20:16                                      억지감동...진짜재미없음   1\n",
       "\n",
       "[4741 rows x 3 columns]"
      ]
     },
     "execution_count": 12,
     "metadata": {},
     "output_type": "execute_result"
    }
   ],
   "source": [
    "df = pd.DataFrame(dict(zip(['날짜','리뷰', '평점'], [date, review, point])))\n",
    "df"
   ]
  },
  {
   "cell_type": "code",
   "execution_count": 13,
   "metadata": {},
   "outputs": [],
   "source": [
    "df.to_csv('movie.csv', encoding='utf-8')"
   ]
  },
  {
   "cell_type": "code",
   "execution_count": 14,
   "metadata": {},
   "outputs": [],
   "source": [
    "# 이게 이렇게 작동하면 안되는데 작동이 된다... 허허"
   ]
  },
  {
   "cell_type": "code",
   "execution_count": null,
   "metadata": {},
   "outputs": [],
   "source": []
  }
 ],
 "metadata": {
  "kernelspec": {
   "display_name": "Python 3",
   "language": "python",
   "name": "python3"
  },
  "language_info": {
   "codemirror_mode": {
    "name": "ipython",
    "version": 3
   },
   "file_extension": ".py",
   "mimetype": "text/x-python",
   "name": "python",
   "nbconvert_exporter": "python",
   "pygments_lexer": "ipython3",
   "version": "3.7.6"
  }
 },
 "nbformat": 4,
 "nbformat_minor": 4
}
