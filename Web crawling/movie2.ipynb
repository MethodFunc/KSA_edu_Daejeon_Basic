{
 "cells": [
  {
   "cell_type": "code",
   "execution_count": 1,
   "metadata": {},
   "outputs": [],
   "source": [
    "from bs4 import BeautifulSoup as BS\n",
    "import urllib.request as req\n",
    "import urllib.parse as pa\n",
    "import pandas as pd\n",
    "from tqdm import tqdm_notebook\n",
    "import time\n",
    "import re\n",
    "import math"
   ]
  },
  {
   "cell_type": "code",
   "execution_count": 2,
   "metadata": {},
   "outputs": [],
   "source": [
    "# 평점 url 얻기 위한 url_open\n",
    "\n",
    "def url_point_Open(movie_num):\n",
    "    url = 'https://movie.naver.com/movie/bi/mi/point.nhn?code='+str(movie_num)\n",
    "    url_open = req.urlopen(url)\n",
    "    \n",
    "    return url_open"
   ]
  },
  {
   "cell_type": "code",
   "execution_count": 3,
   "metadata": {},
   "outputs": [],
   "source": [
    "def url_Open(sub_url, page_num):\n",
    "    url = 'https://movie.naver.com' + sub_url +'&page='+ str(page_num)\n",
    "    url_open = req.urlopen(url)\n",
    "    \n",
    "    return url_open"
   ]
  },
  {
   "cell_type": "code",
   "execution_count": 4,
   "metadata": {},
   "outputs": [
    {
     "data": {
      "text/plain": [
       "'/movie/bi/mi/pointWriteFormList.nhn?code=193804&type=after&isActualPointWriteExecute=false&isMileageSubscriptionAlready=false&isMileageSubscriptionReject=false'"
      ]
     },
     "execution_count": 4,
     "metadata": {},
     "output_type": "execute_result"
    }
   ],
   "source": [
    "movie_num = 193804\n",
    "soup = BS(url_point_Open(movie_num), 'html.parser')\n",
    "ifr_url = soup.find('iframe')['src']\n",
    "ifr_url"
   ]
  },
  {
   "cell_type": "code",
   "execution_count": 5,
   "metadata": {},
   "outputs": [],
   "source": [
    "soup = BS(url_Open(ifr_url, 11), 'html.parser')"
   ]
  },
  {
   "cell_type": "code",
   "execution_count": 6,
   "metadata": {},
   "outputs": [
    {
     "data": {
      "text/plain": [
       "<em>646</em>"
      ]
     },
     "execution_count": 6,
     "metadata": {},
     "output_type": "execute_result"
    }
   ],
   "source": [
    "count = soup.find('strong', 'total').find('em')\n",
    "count"
   ]
  },
  {
   "cell_type": "code",
   "execution_count": 7,
   "metadata": {},
   "outputs": [],
   "source": [
    "count = int(count.string.replace(',', ''))"
   ]
  },
  {
   "cell_type": "code",
   "execution_count": 8,
   "metadata": {},
   "outputs": [
    {
     "data": {
      "text/plain": [
       "646"
      ]
     },
     "execution_count": 8,
     "metadata": {},
     "output_type": "execute_result"
    }
   ],
   "source": [
    "count"
   ]
  },
  {
   "cell_type": "code",
   "execution_count": 9,
   "metadata": {
    "scrolled": true
   },
   "outputs": [
    {
     "data": {
      "text/plain": [
       "65"
      ]
     },
     "execution_count": 9,
     "metadata": {},
     "output_type": "execute_result"
    }
   ],
   "source": [
    "loop_count = math.ceil(count/10)\n",
    "loop_count"
   ]
  },
  {
   "cell_type": "code",
   "execution_count": 10,
   "metadata": {},
   "outputs": [],
   "source": [
    "point = []\n",
    "review = []\n",
    "date = []"
   ]
  },
  {
   "cell_type": "code",
   "execution_count": null,
   "metadata": {
    "scrolled": true
   },
   "outputs": [
    {
     "name": "stdout",
     "output_type": "stream",
     "text": [
      "1 2 3 4 5 6 7 8 9 10 11 12 13 14 15 16 17 18 19 20 21 22 23 24 25 26 27 28 29 30 31 32 33 34 35 36 37 38 39 40 41 42 43 44 45 46 "
     ]
    }
   ],
   "source": [
    "page_num = 1\n",
    "\n",
    "while page_num  < loop_count+1:\n",
    "    soup = BS(url_Open(ifr_url, page_num), 'html.parser')\n",
    "    result = soup.find(class_='score_result')\n",
    "    lis = result.find_all('li')\n",
    "    print(page_num, end=' ')\n",
    "    \n",
    "    for lst in lis:\n",
    "        count_span = len(lst.find(class_='score_reple').find_all('span'))\n",
    "        count_icon = len(lst.find_all(class_='ico_viewer'))\n",
    "        count_spo = len(lst.find_all(class_='text_spo'))\n",
    "        point.append(int(lst.find(class_='star_score').find('em').get_text()))\n",
    "#         print(count_span, count_icon, count_spo)\n",
    "        \n",
    "        if count_icon ==1 and count_spo == 1:\n",
    "            r = lst.find_all('span')[4].get_text().strip()\n",
    "        elif count_icon == 1:\n",
    "            r = lst.find(class_='score_reple').find('p').get_text().strip().replace('\\n', '').replace('\\r', '').replace('\\t', '').replace('관람객', '')\n",
    "        elif count_spo == 1:\n",
    "            r = lst.find_all('span')[3].get_text().strip()\n",
    "        elif count_span == 3:\n",
    "            try:\n",
    "                r = lst.find_all('a')[0]['data-src']\n",
    "            except:\n",
    "                r = lst.find(class_='score_reple').find('p').get_text().strip()\n",
    "        elif count_span == 2:\n",
    "            r = lst.find(class_='score_reple').find('p').get_text().strip()\n",
    "            \n",
    "        review.append(r)\n",
    "        date.append(lst.find(class_='score_reple').find_all('em')[1].get_text())\n",
    "            \n",
    "    page_num += 1\n"
   ]
  },
  {
   "cell_type": "code",
   "execution_count": null,
   "metadata": {
    "scrolled": false
   },
   "outputs": [],
   "source": [
    "df = pd.DataFrame(dict(zip(['날짜','리뷰', '평점'], [date, review, point])))\n",
    "df"
   ]
  },
  {
   "cell_type": "code",
   "execution_count": null,
   "metadata": {},
   "outputs": [],
   "source": [
    "df.to_csv('movie_Escape_From_Pretoria.csv', encoding='utf-8')"
   ]
  },
  {
   "cell_type": "code",
   "execution_count": null,
   "metadata": {},
   "outputs": [],
   "source": []
  }
 ],
 "metadata": {
  "kernelspec": {
   "display_name": "Python 3",
   "language": "python",
   "name": "python3"
  },
  "language_info": {
   "codemirror_mode": {
    "name": "ipython",
    "version": 3
   },
   "file_extension": ".py",
   "mimetype": "text/x-python",
   "name": "python",
   "nbconvert_exporter": "python",
   "pygments_lexer": "ipython3",
   "version": "3.7.6"
  }
 },
 "nbformat": 4,
 "nbformat_minor": 4
}
