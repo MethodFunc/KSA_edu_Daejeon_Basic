{
 "cells": [
  {
   "cell_type": "code",
   "execution_count": 5,
   "metadata": {},
   "outputs": [],
   "source": [
    "from bs4 import BeautifulSoup as BS\n",
    "import urllib.request as req\n",
    "import urllib.parse as pa\n",
    "import pandas as pd\n",
    "import math"
   ]
  },
  {
   "cell_type": "code",
   "execution_count": 6,
   "metadata": {},
   "outputs": [],
   "source": [
    "# 평점 url 얻기 위한 url_open\n",
    "\n",
    "def url_point_Open(movie_num):\n",
    "    url = 'https://movie.naver.com/movie/bi/mi/point.nhn?code='+str(movie_num)\n",
    "    url_open = req.urlopen(url)\n",
    "    \n",
    "    return url_open"
   ]
  },
  {
   "cell_type": "code",
   "execution_count": 7,
   "metadata": {},
   "outputs": [],
   "source": [
    "def url_Open(sub_url, page_num):\n",
    "    url = 'https://movie.naver.com' + sub_url +'&page='+ str(page_num)\n",
    "    url_open = req.urlopen(url)\n",
    "    \n",
    "    return url_open"
   ]
  },
  {
   "cell_type": "code",
   "execution_count": 8,
   "metadata": {},
   "outputs": [
    {
     "data": {
      "text/plain": [
       "'/movie/bi/mi/pointWriteFormList.nhn?code=193804&type=after&isActualPointWriteExecute=false&isMileageSubscriptionAlready=false&isMileageSubscriptionReject=false'"
      ]
     },
     "execution_count": 8,
     "metadata": {},
     "output_type": "execute_result"
    }
   ],
   "source": [
    "movie_num = 193804\n",
    "soup = BS(url_point_Open(movie_num), 'html.parser')\n",
    "ifr_url = soup.find('iframe')['src']\n",
    "ifr_url"
   ]
  },
  {
   "cell_type": "code",
   "execution_count": 9,
   "metadata": {},
   "outputs": [],
   "source": [
    "soup = BS(url_Open(ifr_url, 11), 'html.parser')"
   ]
  },
  {
   "cell_type": "code",
   "execution_count": 10,
   "metadata": {},
   "outputs": [
    {
     "data": {
      "text/plain": [
       "<em>646</em>"
      ]
     },
     "execution_count": 10,
     "metadata": {},
     "output_type": "execute_result"
    }
   ],
   "source": [
    "count = soup.find('strong', 'total').find('em')\n",
    "count"
   ]
  },
  {
   "cell_type": "code",
   "execution_count": 11,
   "metadata": {},
   "outputs": [],
   "source": [
    "count = int(count.string.replace(',', ''))"
   ]
  },
  {
   "cell_type": "code",
   "execution_count": 12,
   "metadata": {},
   "outputs": [
    {
     "data": {
      "text/plain": [
       "646"
      ]
     },
     "execution_count": 12,
     "metadata": {},
     "output_type": "execute_result"
    }
   ],
   "source": [
    "count"
   ]
  },
  {
   "cell_type": "code",
   "execution_count": 13,
   "metadata": {
    "scrolled": true
   },
   "outputs": [
    {
     "data": {
      "text/plain": [
       "65"
      ]
     },
     "execution_count": 13,
     "metadata": {},
     "output_type": "execute_result"
    }
   ],
   "source": [
    "loop_count = math.ceil(count/10)\n",
    "loop_count"
   ]
  },
  {
   "cell_type": "code",
   "execution_count": 14,
   "metadata": {},
   "outputs": [],
   "source": [
    "point = []\n",
    "review = []\n",
    "date = []"
   ]
  },
  {
   "cell_type": "code",
   "execution_count": 15,
   "metadata": {
    "scrolled": true
   },
   "outputs": [
    {
     "name": "stdout",
     "output_type": "stream",
     "text": []
    }
   ],
   "source": [
    "page_num = 1\n",
    "\n",
    "while page_num  < loop_count+1:\n",
    "    soup = BS(url_Open(ifr_url, page_num), 'html.parser')\n",
    "    result = soup.find(class_='score_result')\n",
    "    lis = result.find_all('li')\n",
    "    print(page_num, end=' ')\n",
    "    \n",
    "    for lst in lis:\n",
    "        count_span = len(lst.find(class_='score_reple').find_all('span'))\n",
    "        count_icon = len(lst.find_all(class_='ico_viewer'))\n",
    "        count_spo = len(lst.find_all(class_='text_spo'))\n",
    "        point.append(int(lst.find(class_='star_score').find('em').get_text()))\n",
    "#         print(count_span, count_icon, count_spo)\n",
    "        \n",
    "        if count_icon ==1 and count_spo == 1:\n",
    "            r = lst.find_all('span')[4].get_text().strip()\n",
    "        elif count_icon == 1:\n",
    "            r = lst.find(class_='score_reple').find('p').get_text().strip().replace('\\n', '').replace('\\r', '').replace('\\t', '').replace('관람객', '')\n",
    "        elif count_spo == 1:\n",
    "            r = lst.find_all('span')[3].get_text().strip()\n",
    "        elif count_span == 3:\n",
    "            try:\n",
    "                r = lst.find_all('a')[0]['data-src']\n",
    "            except:\n",
    "                r = lst.find(class_='score_reple').find('p').get_text().strip()\n",
    "        elif count_span == 2:\n",
    "            r = lst.find(class_='score_reple').find('p').get_text().strip()\n",
    "            \n",
    "        review.append(r)\n",
    "        date.append(lst.find(class_='score_reple').find_all('em')[1].get_text())\n",
    "            \n",
    "    page_num += 1\n"
   ]
  },
  {
   "cell_type": "code",
   "execution_count": 16,
   "metadata": {
    "scrolled": false
   },
   "outputs": [
    {
     "data": {
      "text/html": [
       "<div>\n",
       "<style scoped>\n",
       "    .dataframe tbody tr th:only-of-type {\n",
       "        vertical-align: middle;\n",
       "    }\n",
       "\n",
       "    .dataframe tbody tr th {\n",
       "        vertical-align: top;\n",
       "    }\n",
       "\n",
       "    .dataframe thead th {\n",
       "        text-align: right;\n",
       "    }\n",
       "</style>\n",
       "<table border=\"1\" class=\"dataframe\">\n",
       "  <thead>\n",
       "    <tr style=\"text-align: right;\">\n",
       "      <th></th>\n",
       "      <th>날짜</th>\n",
       "      <th>리뷰</th>\n",
       "      <th>평점</th>\n",
       "    </tr>\n",
       "  </thead>\n",
       "  <tbody>\n",
       "    <tr>\n",
       "      <th>0</th>\n",
       "      <td>2020.05.06 20:13</td>\n",
       "      <td>이것은... 사진 세울 때 쓰는 겁니다ㅎ</td>\n",
       "      <td>10</td>\n",
       "    </tr>\n",
       "    <tr>\n",
       "      <th>1</th>\n",
       "      <td>2020.05.09 23:25</td>\n",
       "      <td>나라면 그냥 12년 살았을듯....쫄려 죽는줄..</td>\n",
       "      <td>10</td>\n",
       "    </tr>\n",
       "    <tr>\n",
       "      <th>2</th>\n",
       "      <td>2020.05.06 11:02</td>\n",
       "      <td>영화 재밌습니다. 다니엘 래드클리프 완전 열연이네요. 열쇠맞출때마다 몰입감과 긴장감...</td>\n",
       "      <td>10</td>\n",
       "    </tr>\n",
       "    <tr>\n",
       "      <th>3</th>\n",
       "      <td>2020.05.06 14:47</td>\n",
       "      <td>심장 쫄리는 수준이 장난 아님. 말도 안 되는 것 같은데 실화라니 더 충격</td>\n",
       "      <td>10</td>\n",
       "    </tr>\n",
       "    <tr>\n",
       "      <th>4</th>\n",
       "      <td>2020.05.06 14:45</td>\n",
       "      <td>다니엘 래드클리프.. 이제는  배우로 도약하는거같다</td>\n",
       "      <td>10</td>\n",
       "    </tr>\n",
       "    <tr>\n",
       "      <th>...</th>\n",
       "      <td>...</td>\n",
       "      <td>...</td>\n",
       "      <td>...</td>\n",
       "    </tr>\n",
       "    <tr>\n",
       "      <th>641</th>\n",
       "      <td>2020.05.14 21:21</td>\n",
       "      <td>그냥 할 말이 딱 세 글자 뿐이다. 핵! 노! 잼!</td>\n",
       "      <td>1</td>\n",
       "    </tr>\n",
       "    <tr>\n",
       "      <th>642</th>\n",
       "      <td>2020.05.12 21:20</td>\n",
       "      <td>카라멜팝콘 먹으면서 보다가 갑자기 스크린에서 똥찬 변기통을 클로즈업, 그것도 몇초간...</td>\n",
       "      <td>1</td>\n",
       "    </tr>\n",
       "    <tr>\n",
       "      <th>643</th>\n",
       "      <td>2020.05.27 21:13</td>\n",
       "      <td>지루하다. 별내용 없어요.그냥 나무열쇠로 탈출하다 맨마지막방은 안열려서 드라이버로 ...</td>\n",
       "      <td>1</td>\n",
       "    </tr>\n",
       "    <tr>\n",
       "      <th>644</th>\n",
       "      <td>2020.05.08 02:02</td>\n",
       "      <td>엔딩이 너무 아쉬워요~~똥 싸다 만 느낌~~</td>\n",
       "      <td>8</td>\n",
       "    </tr>\n",
       "    <tr>\n",
       "      <th>645</th>\n",
       "      <td>2020.05.06 10:12</td>\n",
       "      <td>감옥에 갇히고 열쇠를 몰래 제작하는 중반부 까지는 몰입도가 최강이었다. 하지만 20...</td>\n",
       "      <td>5</td>\n",
       "    </tr>\n",
       "  </tbody>\n",
       "</table>\n",
       "<p>646 rows × 3 columns</p>\n",
       "</div>"
      ],
      "text/plain": [
       "                   날짜                                                 리뷰  평점\n",
       "0    2020.05.06 20:13                             이것은... 사진 세울 때 쓰는 겁니다ㅎ  10\n",
       "1    2020.05.09 23:25                        나라면 그냥 12년 살았을듯....쫄려 죽는줄..  10\n",
       "2    2020.05.06 11:02  영화 재밌습니다. 다니엘 래드클리프 완전 열연이네요. 열쇠맞출때마다 몰입감과 긴장감...  10\n",
       "3    2020.05.06 14:47          심장 쫄리는 수준이 장난 아님. 말도 안 되는 것 같은데 실화라니 더 충격  10\n",
       "4    2020.05.06 14:45                       다니엘 래드클리프.. 이제는  배우로 도약하는거같다  10\n",
       "..                ...                                                ...  ..\n",
       "641  2020.05.14 21:21                       그냥 할 말이 딱 세 글자 뿐이다. 핵! 노! 잼!   1\n",
       "642  2020.05.12 21:20  카라멜팝콘 먹으면서 보다가 갑자기 스크린에서 똥찬 변기통을 클로즈업, 그것도 몇초간...   1\n",
       "643  2020.05.27 21:13  지루하다. 별내용 없어요.그냥 나무열쇠로 탈출하다 맨마지막방은 안열려서 드라이버로 ...   1\n",
       "644  2020.05.08 02:02                           엔딩이 너무 아쉬워요~~똥 싸다 만 느낌~~   8\n",
       "645  2020.05.06 10:12  감옥에 갇히고 열쇠를 몰래 제작하는 중반부 까지는 몰입도가 최강이었다. 하지만 20...   5\n",
       "\n",
       "[646 rows x 3 columns]"
      ]
     },
     "execution_count": 16,
     "metadata": {},
     "output_type": "execute_result"
    }
   ],
   "source": [
    "df = pd.DataFrame(dict(zip(['날짜','리뷰', '평점'], [date, review, point])))\n",
    "df"
   ]
  },
  {
   "cell_type": "code",
   "execution_count": 19,
   "metadata": {},
   "outputs": [],
   "source": [
    "df.to_csv('movie_Escape_From_Pretoria.csv', encoding='utf-8')"
   ]
  },
  {
   "cell_type": "code",
   "execution_count": null,
   "metadata": {},
   "outputs": [],
   "source": []
  }
 ],
 "metadata": {
  "kernelspec": {
   "display_name": "Python 3",
   "language": "python",
   "name": "python3"
  },
  "language_info": {
   "codemirror_mode": {
    "name": "ipython",
    "version": 3
   },
   "file_extension": ".py",
   "mimetype": "text/x-python",
   "name": "python",
   "nbconvert_exporter": "python",
   "pygments_lexer": "ipython3",
   "version": "3.7.6"
  }
 },
 "nbformat": 4,
 "nbformat_minor": 4
}
